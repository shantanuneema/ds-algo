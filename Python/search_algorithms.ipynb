{
 "cells": [
  {
   "cell_type": "code",
   "execution_count": 42,
   "metadata": {},
   "outputs": [],
   "source": [
    "def binary_search(array, item):\n",
    "    \n",
    "    l = len(array)\n",
    "    \n",
    "    if array[(l+1)//2] == item:\n",
    "        print((l+1)//2)\n",
    "    \n",
    "    if array[(l+1)//2] < item:\n",
    "        array = binary_search(array[(l+1)//2: l], item)\n",
    "    elif array[(l+1)//2] > item:\n",
    "        array = binary_search(array[0: (l+1)//2], item)"
   ]
  },
  {
   "cell_type": "code",
   "execution_count": 43,
   "metadata": {},
   "outputs": [],
   "source": [
    "array = [1, 5, 7, 10, 15, 16, 22, 25, 30, 31, 40]"
   ]
  },
  {
   "cell_type": "code",
   "execution_count": 1,
   "metadata": {},
   "outputs": [
    {
     "ename": "SyntaxError",
     "evalue": "invalid character in identifier (<ipython-input-1-1fccf83081e0>, line 10)",
     "output_type": "error",
     "traceback": [
      "\u001b[1;36m  File \u001b[1;32m\"<ipython-input-1-1fccf83081e0>\"\u001b[1;36m, line \u001b[1;32m10\u001b[0m\n\u001b[1;33m    class TreeNode:\u001b[0m\n\u001b[1;37m                   ^\u001b[0m\n\u001b[1;31mSyntaxError\u001b[0m\u001b[1;31m:\u001b[0m invalid character in identifier\n"
     ]
    }
   ],
   "source": [
    "'''\n",
    "A binary tree has root, branches and leaves    \n",
    "- Root is the top node    \n",
    "- Branch is any node with children nodes (maximum 2)    \n",
    "- Leaf is any node with no children    \n",
    "- Trees are recursive data structures\n",
    "'''\n",
    "import math\n",
    "\n",
    "class TreeNode:        \n",
    "    def __init__(self, value):        \n",
    "        self.left = None        \n",
    "        self.right = None        \n",
    "        self.value = value        \n",
    "        \n",
    "    def get_lr_root(L):        \n",
    "        levels = int(math.log(len(L)+1, 2))    \n",
    "        left_indx = [2*i+1 for i in range(levels)]    \n",
    "        right_indx = [2*i+2 for i in range(levels)]   \n",
    "        root_node = L[0]        \n",
    "        \n",
    "        return levels, root_node, left_indx, right_indx"
   ]
  },
  {
   "cell_type": "code",
   "execution_count": 4,
   "metadata": {},
   "outputs": [
    {
     "data": {
      "text/plain": [
       "6"
      ]
     },
     "execution_count": 4,
     "metadata": {},
     "output_type": "execute_result"
    }
   ],
   "source": [
    "(12+1)//2"
   ]
  },
  {
   "cell_type": "code",
   "execution_count": 32,
   "metadata": {},
   "outputs": [
    {
     "name": "stdout",
     "output_type": "stream",
     "text": [
      "ho gaya\n"
     ]
    },
    {
     "data": {
      "text/plain": [
       "[2]"
      ]
     },
     "execution_count": 32,
     "metadata": {},
     "output_type": "execute_result"
    }
   ],
   "source": [
    "l = len(array)\n",
    "\n",
    "if array[(l+1)//2] < item:\n",
    "    array = array[(l+1)//2: l]\n",
    "elif array[(l+1)//2] > item:\n",
    "    array = array[0: (l+1)//2]\n",
    "elif array[(l+1)//2] == item:\n",
    "    array = [(l+1)//2]\n",
    "    \n",
    "if len(array) == 1:\n",
    "    print(\"ho gaya\")\n",
    "\n",
    "array"
   ]
  },
  {
   "cell_type": "code",
   "execution_count": 26,
   "metadata": {},
   "outputs": [
    {
     "data": {
      "text/plain": [
       "True"
      ]
     },
     "execution_count": 26,
     "metadata": {},
     "output_type": "execute_result"
    }
   ],
   "source": []
  }
 ],
 "metadata": {
  "kernelspec": {
   "display_name": "Python 3",
   "language": "python",
   "name": "python3"
  },
  "language_info": {
   "codemirror_mode": {
    "name": "ipython",
    "version": 3
   },
   "file_extension": ".py",
   "mimetype": "text/x-python",
   "name": "python",
   "nbconvert_exporter": "python",
   "pygments_lexer": "ipython3",
   "version": "3.7.1"
  }
 },
 "nbformat": 4,
 "nbformat_minor": 2
}
