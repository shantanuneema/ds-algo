{
 "cells": [
  {
   "cell_type": "markdown",
   "metadata": {},
   "source": [
    "#### Reverse a string"
   ]
  },
  {
   "cell_type": "code",
   "execution_count": null,
   "metadata": {},
   "outputs": [],
   "source": [
    "string = \"my name is shantanu\""
   ]
  },
  {
   "cell_type": "code",
   "execution_count": null,
   "metadata": {},
   "outputs": [],
   "source": [
    "def reverse_string(string):\n",
    "    return \"\".join([string[len(string) - i - 1] for i, c in enumerate(string)])"
   ]
  },
  {
   "cell_type": "code",
   "execution_count": null,
   "metadata": {},
   "outputs": [],
   "source": [
    "reverse_string(string)"
   ]
  },
  {
   "cell_type": "markdown",
   "metadata": {},
   "source": [
    "#### Sort multiple arrays"
   ]
  },
  {
   "cell_type": "code",
   "execution_count": null,
   "metadata": {},
   "outputs": [],
   "source": [
    "# First way (re-arrange the inputs in the loop)\n",
    "\n",
    "def pick_lower(a, b):\n",
    "    if a == [] and b != []:\n",
    "        item = b[0]\n",
    "        b = b[1:]\n",
    "    elif b == [] and a!= []:\n",
    "        item = a[0]\n",
    "        a = a[1:]\n",
    "    elif a != [] and b != []:\n",
    "        if a[0] < b[0]:\n",
    "            item = a[0]\n",
    "            a = a[1:]\n",
    "        elif b[0] < a[0]:\n",
    "            item = b[0]\n",
    "            b = b[1:]\n",
    "        elif a[0] == b[0]:\n",
    "            item = a[0]\n",
    "            a = a[1:]\n",
    "    return item, a, b\n",
    "\n",
    "b = [0,1,1,8,10]; a = [2,3,4,4]\n",
    "\n",
    "out_array = [0]*(len(a)+len(b))\n",
    "\n",
    "for i in range(len(out_array)):\n",
    "    out_array[i], a, b = pick_lower(a, b)\n",
    "    \n",
    "out_array"
   ]
  },
  {
   "cell_type": "code",
   "execution_count": null,
   "metadata": {},
   "outputs": [],
   "source": [
    "# Second way (keeping the inputs intact)\n",
    "\n",
    "def pick_low_index(a, b, k_a, k_b):\n",
    "    \n",
    "    i, j = 0, 0\n",
    "    if k_a < len(a):\n",
    "        if a[k_a] < b[k_b]:\n",
    "            i = 1; out = a[k_a]\n",
    "        elif b[k_b] < a[k_a]:\n",
    "            j = 1; out = b[k_b]\n",
    "    else:\n",
    "        j = 1; out = b[k_b]\n",
    "    \n",
    "    return out, k_a+i, k_b+j\n",
    "\n",
    "b = [0,1,1,8,10]; a = [2,3,4,4]\n",
    "out_array = [0]*(len(a)+len(b))\n",
    "\n",
    "k_a, k_b = 0, 0\n",
    "for i in range(len(out_array)):\n",
    "    if len(a) <= len(b):\n",
    "        out_array[i], k_a, k_b = pick_low_index(a, b, k_a, k_b)\n",
    "    else:\n",
    "        out_array[i], k_a, k_b = pick_low_index(b, a, k_a, k_b)\n",
    "\n",
    "out_array"
   ]
  },
  {
   "cell_type": "code",
   "execution_count": null,
   "metadata": {},
   "outputs": [],
   "source": [
    "# Third way - Using a while loop\n",
    "\n",
    "b = [0,1,1,8,10]; a = [2,3,4,4]\n",
    "\n",
    "out_array = [0]*(len(a)+len(b))\n",
    "i = 0; j = 0\n",
    "\n",
    "while i+j < len(a)+len(b):\n",
    "    if i < len(a) and j < len(b):\n",
    "        if a[i] < b[j]:\n",
    "            out_array[i+j] = a[i]\n",
    "            i += 1\n",
    "        else:\n",
    "            out_array[i+j] = b[j]\n",
    "            j += 1\n",
    "    elif i < len(a):\n",
    "        out_array[i+j] = a[i]\n",
    "        i += 1\n",
    "    elif j < len(b):\n",
    "        out_array[i+j] = b[j]\n",
    "        j += 1\n",
    "            \n",
    "out_array"
   ]
  },
  {
   "cell_type": "markdown",
   "metadata": {},
   "source": [
    "#### Additional Questions\n",
    "\n",
    "1. Given an array of integers nums and an integer target, return indices of the two numbers such that they add up to target, assume that each input would have exactly one solution, and you may not use the same element twice.\n",
    "\n",
    "2. Given an integer array nums, find the contiguous subarray (containing at least one number) which has the largest sum and return its sum, if you have figured out the O(n) solution, try coding another solution using the divide and conquer approach, which is more subtle.\n",
    "\n",
    "3. Given an array nums, write a function to move all 0's to the end of it while maintaining the relative order of the non-zero elements.\n",
    "\n",
    "4. Given an array of integers, find if the array contains any duplicates, function should return true if any value appears at least twice in the array, and it should return false if every element is distinct.\n",
    "\n",
    "5. Given an array, rotate the array to the right by k steps, where k is non-negative.\n",
    "\n",
    "    Follow up (5):\n",
    "    Try to come up as many solutions as you can, there are at least 3  different ways to solve this problem.\n",
    "    Could you do it in-place with O(1) extra space?"
   ]
  },
  {
   "cell_type": "markdown",
   "metadata": {},
   "source": [
    "#### Find earliest duplicate"
   ]
  },
  {
   "cell_type": "code",
   "execution_count": null,
   "metadata": {},
   "outputs": [],
   "source": [
    "# Find earliest duplicate in a given array:\n",
    "a = [2,5,1,2,3,5,1,2,4]\n",
    "b = [2,1,1,2,3,5,1,2,4]\n",
    "c = [2,3,4,5]\n",
    "d = [2,1,3,4,6,7,1,5,4]\n",
    "\n",
    "# def first_dup_find(arr):   \n",
    "#     for i in range(len(arr)):\n",
    "#         for j in range(i+1, len(arr), 1):            \n",
    "#             if arr[i] == arr[j]:                \n",
    "#                 return arr[i]    \n",
    "#             else:        \n",
    "#                 return \"None\"\n",
    "\n",
    "# first_dup_find(d)"
   ]
  },
  {
   "cell_type": "code",
   "execution_count": null,
   "metadata": {},
   "outputs": [],
   "source": [
    "def first_duplicate(a):\n",
    "    L = []\n",
    "    for i in range(len(a)):\n",
    "        for j in range(i+1, len(a), 1):\n",
    "            if a[i] == a[j]:\n",
    "                L.append((a[i], j-1))\n",
    "    if L == []:\n",
    "        answer = \"None\"\n",
    "    else:\n",
    "        min_key = min([item[1] for item in L])\n",
    "        for i in range(len(L)):\n",
    "            if L[i][1] == min_key:\n",
    "                answer = L[i][0]\n",
    "                break\n",
    "    return answer"
   ]
  },
  {
   "cell_type": "code",
   "execution_count": null,
   "metadata": {},
   "outputs": [],
   "source": [
    "class Solution:\n",
    "\n",
    "    def first_reoccur(self, inp):\n",
    "        hashset = set()\n",
    "        for item in list(inp):\n",
    "            if item in hashset:\n",
    "                return item\n",
    "            else:\n",
    "                hashset.add(item)\n",
    "\n",
    "        return None\n",
    "\n",
    "if __name__ == \"__main__\":\n",
    "    s = Solution()\n",
    "    print(s.first_reoccur(\"interviewquery\"))\n",
    "    print(s.first_reoccur(\"interv\"))"
   ]
  },
  {
   "cell_type": "code",
   "execution_count": null,
   "metadata": {},
   "outputs": [],
   "source": [
    "import os\n",
    "file_path = os.getcwd() + '/logfile.txt'"
   ]
  },
  {
   "cell_type": "code",
   "execution_count": null,
   "metadata": {},
   "outputs": [],
   "source": [
    "%%time\n",
    "class Solution:\n",
    "    def count_lines(self, file_path):\n",
    "        count = 0\n",
    "        with open(file_path, 'r') as log_file:\n",
    "            for line in log_file:\n",
    "                count += 1\n",
    "\n",
    "        return count\n",
    "    \n",
    "if __name__ == \"__main__\":\n",
    "    s = Solution()\n",
    "    print(s.count_lines(file_path))"
   ]
  },
  {
   "cell_type": "code",
   "execution_count": null,
   "metadata": {},
   "outputs": [],
   "source": [
    "%%time\n",
    "file = open(file_path, \"r\")\n",
    "line_count = 0\n",
    "for line in file:\n",
    "    if line != \"\\n\":\n",
    "        line_count += 1\n",
    "file.close()\n",
    "\n",
    "print(line_count)"
   ]
  },
  {
   "cell_type": "code",
   "execution_count": null,
   "metadata": {},
   "outputs": [],
   "source": [
    "Input = ['Geeeks, Forgeeks', '65.7492, 62.5405',\n",
    "         'Geeks, 123', '555.7492, 152.5406']\n",
    "           \n",
    "temp = []\n",
    "  \n",
    "# Getting elem in list of list format\n",
    "for elem in Input:\n",
    "    temp2 = elem.split(', ')\n",
    "    temp.append((temp2))"
   ]
  },
  {
   "cell_type": "code",
   "execution_count": null,
   "metadata": {},
   "outputs": [],
   "source": [
    "import jupyterthemes as jt"
   ]
  },
  {
   "cell_type": "code",
   "execution_count": null,
   "metadata": {},
   "outputs": [],
   "source": [
    "!jt -t chesterish"
   ]
  },
  {
   "cell_type": "code",
   "execution_count": null,
   "metadata": {},
   "outputs": [],
   "source": [
    "datetime(t.year, 1, 1)"
   ]
  },
  {
   "cell_type": "code",
   "execution_count": null,
   "metadata": {},
   "outputs": [],
   "source": [
    "output = []\n",
    "idx = 1\n",
    "\n",
    "while idx < len(ts):\n",
    "    while WkNum(ts[idx]) == WkNum(ts[idx - 1]):\n",
    "        sub_list.append(ts[idx])\n",
    "        idx += 1\n",
    "    output.append(sub_list)\n",
    "    idx += 1\n",
    "\n",
    "output"
   ]
  },
  {
   "cell_type": "code",
   "execution_count": null,
   "metadata": {},
   "outputs": [],
   "source": [
    "old_list = [1,1,2,2,3,3,3,4,4,4,4,5,5,5,5,5]\n",
    "new_list = [[old_list[0]]]; ct = 0\n",
    "\n",
    "for i in range(1, len(old_list)):\n",
    "    if old_list[i] == old_list[i - 1]:\n",
    "        new_list[ct].append(old_list[i])\n",
    "    else:\n",
    "        ct += 1\n",
    "        new_list.append([old_list[i]])"
   ]
  },
  {
   "cell_type": "code",
   "execution_count": null,
   "metadata": {},
   "outputs": [],
   "source": [
    "s = \"0P\"\n",
    "s = \"\".join([c.lower() for c in s if c.isalpha()])\n",
    "n = len(s)\n",
    "for i in range(n):\n",
    "    print(i, n - i - 1)\n",
    "    if s[i] != s[n - i - 1]:\n",
    "        print(False)"
   ]
  },
  {
   "cell_type": "code",
   "execution_count": null,
   "metadata": {},
   "outputs": [],
   "source": [
    "x = 2147483642\n",
    "ifneg = True if x < 0 else False\n",
    "y = abs(x)\n",
    "rev_num = 0\n",
    "while y > 0:\n",
    "    remainder = y % 10\n",
    "    rev_num = rev_num * 10 + remainder\n",
    "    y = y // 10\n",
    "\n",
    "if ifneg and rev_num > -float('inf'):\n",
    "    print(-1*rev_num)\n",
    "elif rev_num < float('inf'): \n",
    "    print(rev_num)\n",
    "else: print(0)"
   ]
  },
  {
   "cell_type": "code",
   "execution_count": null,
   "metadata": {},
   "outputs": [],
   "source": [
    "x = -1234\n"
   ]
  },
  {
   "cell_type": "code",
   "execution_count": null,
   "metadata": {},
   "outputs": [],
   "source": [
    "ifNeg = True if x < 0 else False\n",
    "\n",
    "y = abs(x)\n",
    "rev_num = 0\n",
    "while y > 0:\n",
    "    remainder = y % 10\n",
    "    rev_num = rev_num * 10 + remainder\n",
    "    y = y // 10\n",
    "\n",
    "if ifNeg: print(-1*rev_num)\n",
    "else: print(rev_num)"
   ]
  },
  {
   "cell_type": "code",
   "execution_count": null,
   "metadata": {},
   "outputs": [],
   "source": [
    "class Solution:\n",
    "    def biggestTip(self, user_ids, tips):\n",
    "        max_tip = 0\n",
    "        for user, tip in zip(user_ids, tips):\n",
    "            if tip > max_tip:\n",
    "                max_tip = tip\n",
    "                highestUser = user\n",
    "        return highestUser\n",
    "    \n",
    "if __name__ == \"__main__\":\n",
    "    s = Solution()\n",
    "    print(s.biggestTip([103, 105, 105, 107, 106, 103, 102, 108, 107, 103, 102],\n",
    "                       [2, 5, 1, 0, 2, 1, 1, 0, 0, 2, 2]))"
   ]
  },
  {
   "cell_type": "code",
   "execution_count": 4,
   "metadata": {},
   "outputs": [
    {
     "name": "stdout",
     "output_type": "stream",
     "text": [
      "(27, '2019-01-02', '2019-01-04')\n",
      "None\n",
      "(5, '2019-01-03', '2019-01-02')\n"
     ]
    }
   ],
   "source": [
    "\"\"\"\n",
    "Given a list of stock prices in ascending order by datetime, \n",
    "write a function that outputs the max profit by buying and selling at a specific interval\n",
    "\"\"\"\n",
    "\n",
    "class Solution:\n",
    "    def get_max_profit(self, stock_prices, dts):\n",
    "        minPrice = stock_prices[0]; maxProfit = 0\n",
    "        buyTime = dts[0]\n",
    "        for i in range(len(stock_prices)):\n",
    "            if stock_prices[i] < minPrice:\n",
    "                minPrice = stock_prices[i]\n",
    "                buyTime = dts[i]\n",
    "            if stock_prices[i] - minPrice > maxProfit: \n",
    "                maxProfit = stock_prices[i] - minPrice\n",
    "                sellTime = dts[i]\n",
    "        \n",
    "        try: \n",
    "            answer = (maxProfit, buyTime, sellTime)\n",
    "        except:\n",
    "            answer = None\n",
    "            \n",
    "        return answer\n",
    "        \n",
    "if __name__ == \"__main__\":\n",
    "    s = Solution()\n",
    "    print(s.get_max_profit([10,5,20,32,25,12],\n",
    "                           ['2019-01-01', \n",
    "                           '2019-01-02',\n",
    "                           '2019-01-03',\n",
    "                           '2019-01-04',\n",
    "                           '2019-01-05',\n",
    "                           '2019-01-06']))\n",
    " \n",
    "    print(s.get_max_profit([10,5],\n",
    "                           ['2019-01-01', \n",
    "                           '2019-01-02']))   \n",
    "    print(s.get_max_profit([5,10,4],\n",
    "                           ['2019-01-01', \n",
    "                           '2019-01-02',\n",
    "                           '2019-01-03']))  "
   ]
  },
  {
   "cell_type": "code",
   "execution_count": 5,
   "metadata": {},
   "outputs": [
    {
     "name": "stdout",
     "output_type": "stream",
     "text": [
      "[('Jason', 23645), ('Cindy', 64337)]\n"
     ]
    }
   ],
   "source": [
    "\"\"\"\n",
    "We have a list of existing ids that we have already scraped. \n",
    "Let's say we also have two lists, one of names and another of urls \n",
    "that correspond to the names in another list with the id of the names in the url\n",
    "\"\"\"\n",
    "\n",
    "class Solution:\n",
    "    def newResumes(self, existing_ids, names, urls):\n",
    "        ids = set(existing_ids)\n",
    "        output = []\n",
    "        for name, url in zip(names, urls):\n",
    "            currID = int(url.split(\"/\")[2])\n",
    "            if not currID in ids:\n",
    "                output.append((name, currID))\n",
    "                \n",
    "        return output\n",
    "        \n",
    "if __name__ == \"__main__\":\n",
    "    s = Solution()\n",
    "    print(s.newResumes([15234, 20485, 34536, 95342, 94857],\n",
    "    ['Calvin', 'Jason', 'Cindy', 'Kevin'],\n",
    "    ['domain.com/resume/15234', \n",
    "     'domain.com/resume/23645', \n",
    "     'domain.com/resume/64337', \n",
    "     'domain.com/resume/34536']))"
   ]
  },
  {
   "cell_type": "code",
   "execution_count": 13,
   "metadata": {},
   "outputs": [
    {
     "name": "stdout",
     "output_type": "stream",
     "text": [
      "1 12\n",
      "2 2\n",
      "3 3\n",
      "4 4\n",
      "5 5\n",
      "6 6\n",
      "7 7\n",
      "8 8\n",
      "9 9\n",
      "10 1\n",
      "11 11\n",
      "12 12\n",
      "13 13\n",
      "14\n"
     ]
    }
   ],
   "source": [
    "pages = '12345678910111213'\n",
    "order = True\n",
    "\n",
    "# position = 0; page = 1\n",
    "# while position < len(pages):\n",
    "#     print(pages[position:position + page], page)\n",
    "#     if pages[position:position + page] == str(page):\n",
    "#         page += 1\n",
    "#         position += 1\n",
    "#     else: break\n",
    "# print(page)\n",
    "\n",
    "# def last_page_number(string):\n",
    "pos=0\n",
    "page=1\n",
    "while pos < len(pages):\n",
    "    print(str(page), pages[pos:pos+len(page_str)])\n",
    "    page_str=str(page)\n",
    "    if pages[pos:pos+len(page_str)]==page_str:\n",
    "        pos+=len(page_str)\n",
    "        page+=1\n",
    "    else:\n",
    "        break\n",
    "print(page)"
   ]
  },
  {
   "cell_type": "code",
   "execution_count": null,
   "metadata": {},
   "outputs": [],
   "source": [
    "\"\"\"\n",
    "Capital One has two levels of customer acquisition strategies for customers that are opening credit cards.\n",
    "For high spending customers, Capital One will give clients a one time bonus of 800 dollars. \n",
    "For everyone else, they give a 100 dollar bonus.\n",
    "Write a function in Python that takes a list of client spends as floats and \n",
    "figures out the threshold to divide the high spending vs low spending customers\n",
    "\"\"\""
   ]
  },
  {
   "cell_type": "code",
   "execution_count": null,
   "metadata": {},
   "outputs": [],
   "source": []
  },
  {
   "cell_type": "code",
   "execution_count": null,
   "metadata": {},
   "outputs": [],
   "source": []
  },
  {
   "cell_type": "code",
   "execution_count": null,
   "metadata": {},
   "outputs": [],
   "source": []
  },
  {
   "cell_type": "code",
   "execution_count": null,
   "metadata": {},
   "outputs": [],
   "source": []
  },
  {
   "cell_type": "code",
   "execution_count": null,
   "metadata": {},
   "outputs": [],
   "source": []
  },
  {
   "cell_type": "code",
   "execution_count": null,
   "metadata": {},
   "outputs": [],
   "source": []
  },
  {
   "cell_type": "code",
   "execution_count": null,
   "metadata": {},
   "outputs": [],
   "source": []
  },
  {
   "cell_type": "code",
   "execution_count": null,
   "metadata": {},
   "outputs": [],
   "source": []
  }
 ],
 "metadata": {
  "kernelspec": {
   "display_name": "Python 3",
   "language": "python",
   "name": "python3"
  },
  "language_info": {
   "codemirror_mode": {
    "name": "ipython",
    "version": 3
   },
   "file_extension": ".py",
   "mimetype": "text/x-python",
   "name": "python",
   "nbconvert_exporter": "python",
   "pygments_lexer": "ipython3",
   "version": "3.8.5"
  }
 },
 "nbformat": 4,
 "nbformat_minor": 2
}
