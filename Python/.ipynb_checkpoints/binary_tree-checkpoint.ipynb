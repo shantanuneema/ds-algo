{
 "cells": [
  {
   "cell_type": "code",
   "execution_count": null,
   "metadata": {},
   "outputs": [],
   "source": [
    "'''\n",
    "A binary tree has root, branches and leaves\n",
    "    - Root is the top node\n",
    "    - Branch is any node with children nodes (maximum 2)\n",
    "    - Leaf is any node with no children\n",
    "    - Trees are recursive data structures\n",
    "'''\n",
    "\n",
    "import math\n",
    "\n",
    "class TreeNode:\n",
    "    \n",
    "    def __init__(self, value):\n",
    "        self.left = None\n",
    "        self.right = None\n",
    "        self.value = value\n",
    "        \n",
    "def get_lr_root(L):\n",
    "    \n",
    "    levels = int(math.log(len(L)+1, 2))\n",
    "    left_indx = [2*i+1 for i in range(levels)]\n",
    "    right_indx = [2*i+2 for i in range(levels)]\n",
    "    root_node = L[0]\n",
    "    \n",
    "    return levels, root_node, left_indx, right_indx"
   ]
  },
  {
   "cell_type": "code",
   "execution_count": null,
   "metadata": {},
   "outputs": [],
   "source": [
    "L = [3,5,2,1,4,6,7,8,9,10,11,12,13,14,None] "
   ]
  },
  {
   "cell_type": "code",
   "execution_count": null,
   "metadata": {},
   "outputs": [],
   "source": [
    "\"\"\"\n",
    "def constructTree(L):\n",
    "\n",
    "    levels = int(math.log(len(L)+1, 2))\n",
    "    root = TreeNode(L[i])\n",
    "    root.left = constructTree(L[2*i+1])\n",
    "    root.right = constructTree(L[2*i+2])\n",
    "    \n",
    "    if i == levels:\n",
    "        return self\n",
    "\"\"\""
   ]
  },
  {
   "cell_type": "code",
   "execution_count": 51,
   "metadata": {},
   "outputs": [
    {
     "name": "stdout",
     "output_type": "stream",
     "text": [
      "In-order traversal in ascending order:\n",
      "[5, 10, 15, 20, 21, 22, 23, 25, 27, 28, 29, 30, 35, 40, 50]\n",
      "In-order traversal in descending order:\n",
      "[50, 40, 35, 30, 29, 28, 27, 25, 23, 22, 21, 20, 15, 10, 5]\n",
      "Pre-order traversal in ascending order:\n",
      "[25, 20, 10, 5, 15, 22, 21, 23, 30, 28, 27, 29, 40, 35, 50]\n",
      "Pre-order traversal in descending order:\n",
      "[25, 30, 40, 50, 35, 28, 29, 27, 20, 22, 23, 21, 10, 15, 5]\n",
      "Post-order traversal in ascending order:\n",
      "[5, 15, 10, 21, 23, 22, 20, 27, 29, 28, 35, 50, 40, 30, 25]\n",
      "Post-order traversal in descending order:\n",
      "[50, 35, 40, 29, 27, 28, 30, 23, 21, 22, 15, 5, 10, 20, 25]\n"
     ]
    }
   ],
   "source": [
    "from typing import List\n",
    "\n",
    "\"\"\"\n",
    "Construction of binary trees in Python\n",
    "\"\"\"\n",
    "\n",
    "class TreeNode:\n",
    "\n",
    "    def __init__(self, value):\n",
    "        self.value = value\n",
    "        self.left = None\n",
    "        self.right = None\n",
    "        \n",
    "class BinaryTree:\n",
    "\n",
    "    def insertLevelOrder(self, arr, root, i, n):\n",
    "        if i < n:\n",
    "            temp = TreeNode(arr[i]) \n",
    "            root = temp \n",
    "            # insert left child \n",
    "            root.left = self.insertLevelOrder(arr, root.left, 2 * i + 1, n)\n",
    "            # insert right child \n",
    "            root.right = self.insertLevelOrder(arr, root.right, 2 * i + 2, n)\n",
    "        return root\n",
    "\n",
    "if __name__ == \"__main__\":\n",
    "    s = BinaryTree()\n",
    "    nums = [25,20,30,10,22,28,40,5,15,21,23,27,29,35,50]\n",
    "    arr = [1,2,3,4,5]\n",
    "    tree_node = s.insertLevelOrder(nums, None, 0, len(nums))\n",
    "    new_node = s.insertLevelOrder(arr, None, 0, len(arr))\n",
    "    \n",
    "\"\"\"\n",
    "In-Order, Pre-Order and Post-Order traversal techniques for Binary Search Trees\n",
    "\"\"\"\n",
    "\n",
    "class Solution:\n",
    "    \n",
    "    def __init__(self):\n",
    "        self.result = []\n",
    "        \n",
    "    def in_order(self, root, ascending = True):\n",
    "        if ascending:\n",
    "            self.inhelper_asc(root)\n",
    "        else: self.inhelper_desc(root)\n",
    "        return self.result\n",
    "    \n",
    "    def pre_order(self, root, ascending = True):\n",
    "        if ascending:\n",
    "            self.prehelper_asc(root)\n",
    "        else: self.prehelper_desc(root)\n",
    "        return self.result\n",
    "    \n",
    "    def post_order(self, root, ascending = True):\n",
    "        if ascending:\n",
    "            self.posthelper_asc(root)\n",
    "        else: self.posthelper_desc(root)\n",
    "        return self.result\n",
    "        \n",
    "    def inhelper_asc(self, root):\n",
    "        if root:\n",
    "            self.inhelper_asc(root.left)\n",
    "            self.result.append(root.value)\n",
    "            self.inhelper_asc(root.right)\n",
    "    \n",
    "    def inhelper_desc(self, root):\n",
    "        if root:\n",
    "            self.inhelper_desc(root.right)\n",
    "            self.result.append(root.value)\n",
    "            self.inhelper_desc(root.left)\n",
    "            \n",
    "    def prehelper_asc(self, root):\n",
    "        if root:\n",
    "            self.result.append(root.value)\n",
    "            self.prehelper_asc(root.left)\n",
    "            self.prehelper_asc(root.right)\n",
    "    \n",
    "    def prehelper_desc(self, root):\n",
    "        if root:\n",
    "            self.result.append(root.value)\n",
    "            self.prehelper_desc(root.right)\n",
    "            self.prehelper_desc(root.left)\n",
    "            \n",
    "    def posthelper_asc(self, root):\n",
    "        if root:\n",
    "            self.posthelper_asc(root.left)\n",
    "            self.posthelper_asc(root.right)\n",
    "            self.result.append(root.value)\n",
    "    \n",
    "    def posthelper_desc(self, root):\n",
    "        if root:\n",
    "            self.posthelper_desc(root.right)\n",
    "            self.posthelper_desc(root.left)\n",
    "            self.result.append(root.value)\n",
    "\n",
    "print(\"In-order traversal in ascending order:\")\n",
    "print(Solution().in_order(tree_node))\n",
    "print(\"In-order traversal in descending order:\")\n",
    "print(Solution().in_order(tree_node, ascending = False))\n",
    "print(\"Pre-order traversal in ascending order:\")\n",
    "print(Solution().pre_order(tree_node))\n",
    "print(\"Pre-order traversal in descending order:\")\n",
    "print(Solution().pre_order(tree_node, ascending = False))\n",
    "print(\"Post-order traversal in ascending order:\")\n",
    "print(Solution().post_order(tree_node))\n",
    "print(\"Post-order traversal in descending order:\")\n",
    "print(Solution().post_order(tree_node, ascending = False))"
   ]
  },
  {
   "cell_type": "code",
   "execution_count": null,
   "metadata": {},
   "outputs": [],
   "source": [
    "\"\"\" Tree structure for above \n",
    "\n",
    "                                25\n",
    "                               /   \\\n",
    "                              /     \\ \n",
    "                             /       \\ \n",
    "                            /         \\\n",
    "                           /           \\\n",
    "                          /             \\\n",
    "                         20              30\n",
    "                       /    \\           /   \\\n",
    "                      /      \\         /     \\\n",
    "                     10       22      28      40\n",
    "                    /  \\     /  \\     / \\     / \\\n",
    "                   /    \\   /    \\   /   \\   /   \\\n",
    "                None  None 21    23 27   29 35   50\n",
    "\n",
    "\"\"\""
   ]
  },
  {
   "cell_type": "code",
   "execution_count": 3,
   "metadata": {},
   "outputs": [],
   "source": [
    "s = BinaryTree()\n",
    "arr = [1,2,3,4,5]\n",
    "node = s.insertLevelOrder(arr, None, 0, len(arr))\n",
    "\n",
    "class Solution:\n",
    "    def isValidBST(self, root: TreeNode) -> bool:\n",
    "        if root == None: return True\n",
    "        self.result = []\n",
    "        self.inOrder(root)\n",
    "        if len(self.result) > 1:\n",
    "            for i in range(len(self.result)):\n",
    "                if self.result[i - 1] > self.result[i]:\n",
    "                    return False\n",
    "        return True\n",
    "    \n",
    "    def inOrder(self, root):\n",
    "        if root:\n",
    "            self.inOrder(root.left)\n",
    "            self.result.append(root.value)\n",
    "            self.inOrder(root.right)"
   ]
  },
  {
   "cell_type": "code",
   "execution_count": 4,
   "metadata": {},
   "outputs": [
    {
     "name": "stdout",
     "output_type": "stream",
     "text": [
      "True\n",
      "False\n"
     ]
    }
   ],
   "source": [
    "class Solution:\n",
    "    \n",
    "    def isValidBST(self, root: TreeNode) -> bool:\n",
    "        if root == None: return True\n",
    "        self.result = []\n",
    "        self.inOrder(root)\n",
    "        if len(self.result) > 1:\n",
    "            for i in range(1, len(self.result)):\n",
    "                if self.result[i - 1] >= self.result[i]:\n",
    "                    return False\n",
    "        return True\n",
    "    \n",
    "    def inOrder(self, root):\n",
    "        if root:\n",
    "            self.inOrder(root.left)\n",
    "            self.result.append(root.value)\n",
    "            self.inOrder(root.right)\n",
    "            \n",
    "if __name__ == \"__main__\":\n",
    "    print(Solution().isValidBST(tree_node))\n",
    "    print(Solution().isValidBST(new_node))"
   ]
  },
  {
   "cell_type": "code",
   "execution_count": 5,
   "metadata": {
    "cell_style": "center"
   },
   "outputs": [
    {
     "name": "stdout",
     "output_type": "stream",
     "text": [
      "False\n",
      "True\n"
     ]
    }
   ],
   "source": [
    "# iterative in-order traversal\n",
    "class Solution:\n",
    "    def isValidBST(self, root):\n",
    "        stack = []; prev = TreeNode(-float('inf'))\n",
    "        while root != None or len(stack) != 0:\n",
    "            while root != None:\n",
    "                stack.append(root)\n",
    "                root = root.left\n",
    "            # print([r.value for r in stack])\n",
    "            root = stack.pop()\n",
    "            if prev != None and root != None:\n",
    "                if prev.value >= root.value:\n",
    "                    return False\n",
    "            prev = root\n",
    "            root = root.right\n",
    "        return True\n",
    "    \n",
    "if __name__ == \"__main__\":\n",
    "    s = Solution()\n",
    "    print(s.isValidBST(new_node))\n",
    "    print(s.isValidBST(tree_node))"
   ]
  },
  {
   "cell_type": "code",
   "execution_count": 6,
   "metadata": {
    "cell_style": "center"
   },
   "outputs": [
    {
     "data": {
      "text/plain": [
       "222205"
      ]
     },
     "execution_count": 6,
     "metadata": {},
     "output_type": "execute_result"
    }
   ],
   "source": [
    "class Solution:\n",
    "    def sumNumbers(self, root: TreeNode) -> int:\n",
    "        stack = []; nodeSum = 0; num_list = []\n",
    "        prev = TreeNode(value = 0)\n",
    "        if root == None: return nodeSum\n",
    "        \n",
    "        while root != None or len(stack) != 0:\n",
    "            while root != None:\n",
    "                nodeSum = nodeSum * 10 + root.value\n",
    "                stack.append((root, nodeSum))\n",
    "                root = root.left\n",
    "                # print([(r.value, s) for r, s in zip([i[0] for i in stack], [i[1] for i in stack])])\n",
    "            root, nodeSum = stack.pop()\n",
    "            if root.left == None and root.right == None:\n",
    "                num_list.append(nodeSum)\n",
    "            root = root.right\n",
    "        return sum(num_list)\n",
    "            \n",
    "Solution().sumNumbers(tree_node)"
   ]
  },
  {
   "cell_type": "code",
   "execution_count": 8,
   "metadata": {
    "cell_style": "split"
   },
   "outputs": [
    {
     "name": "stdout",
     "output_type": "stream",
     "text": [
      "1026\n"
     ]
    }
   ],
   "source": [
    "class Solution:\n",
    "    \n",
    "    def sumNumbers(self, root: TreeNode) -> int:\n",
    "        \n",
    "        stack = []; nodeSum = 0; result = 0\n",
    "        if root == None: return nodeSum\n",
    "            \n",
    "        while root != None or len(stack) != 0:\n",
    "            while root != None:\n",
    "                nodeSum = nodeSum * 10 + root.value\n",
    "                stack.append((root, nodeSum))\n",
    "                root = root.left\n",
    "            root, nodeSum = stack.pop()\n",
    "            if root.left == None and root.right == None:\n",
    "                result += nodeSum\n",
    "            root = root.right\n",
    "\n",
    "        return result\n",
    "    \n",
    "if __name__ == \"__main__\":\n",
    "    s = Solution()\n",
    "    print(s.sumNumbers(tree_node))"
   ]
  },
  {
   "cell_type": "code",
   "execution_count": 9,
   "metadata": {
    "cell_style": "split"
   },
   "outputs": [
    {
     "name": "stdout",
     "output_type": "stream",
     "text": [
      "1026\n"
     ]
    }
   ],
   "source": [
    "class Solution:\n",
    "    def sumNumbers(self, root: TreeNode) -> int:\n",
    "        self.result = 0\n",
    "        self.dfs(root, 0)\n",
    "        return self.result\n",
    "    \n",
    "    def dfs(self, root, nodeSum):\n",
    "        # base\n",
    "        if root == None: return\n",
    "        # logic\n",
    "        nodeSum = nodeSum * 10 + root.value\n",
    "        self.dfs(root.left, nodeSum)\n",
    "        if root.left == None and root.right == None:\n",
    "            self.result += nodeSum\n",
    "        self.dfs(root.right, nodeSum)\n",
    "            \n",
    "if __name__ == \"__main__\":\n",
    "    s = Solution()\n",
    "    print(s.sumNumbers(tree_node))"
   ]
  },
  {
   "cell_type": "code",
   "execution_count": 7,
   "metadata": {},
   "outputs": [],
   "source": [
    "if __name__ == \"__main__\":\n",
    "    s = BinaryTree()\n",
    "    nums = [4,9,0,5,1]\n",
    "    tree_node = s.insertLevelOrder(nums, None, 0, len(nums))"
   ]
  },
  {
   "cell_type": "code",
   "execution_count": 55,
   "metadata": {},
   "outputs": [],
   "source": [
    "inorder = [10, 20, 21, 22, 23, 25, 27, 28, 29, 30, 35, 40, 50]\n",
    "preorder = [25, 20, 10, 22, 21, 23, 30, 28, 27, 29, 40, 35, 50]\n",
    "\n",
    "class Solution:\n",
    "    def buildTree(self, preorder: List[int], inorder: List[int]) -> TreeNode:\n",
    "        if len(preorder) > 0:\n",
    "            root = TreeNode(value = preorder[0])\n",
    "            \n",
    "            split_idx = -1\n",
    "            for i in range(len(inorder)):\n",
    "                if root.value == inorder[i]: split_idx = i\n",
    "                    \n",
    "            left_inorder = inorder[0: split_idx]\n",
    "            right_inorder = inorder[split_idx + 1: len(inorder)]\n",
    "            \n",
    "            left_preorder = preorder[1: split_idx + 1]\n",
    "            right_preorder = preorder[split_idx + 1: len(preorder)]\n",
    "            \n",
    "            root.left = self.buildTree(left_preorder, left_inorder)\n",
    "            root.right = self.buildTree(right_preorder, right_inorder)\n",
    "            \n",
    "            return root\n",
    "        \n",
    "if __name__ == \"__main__\":\n",
    "    s = Solution()\n",
    "    new_tree = s.buildTree(preorder, inorder)\n",
    "    "
   ]
  },
  {
   "cell_type": "code",
   "execution_count": null,
   "metadata": {},
   "outputs": [],
   "source": []
  },
  {
   "cell_type": "code",
   "execution_count": null,
   "metadata": {},
   "outputs": [],
   "source": []
  },
  {
   "cell_type": "code",
   "execution_count": null,
   "metadata": {},
   "outputs": [],
   "source": []
  },
  {
   "cell_type": "code",
   "execution_count": null,
   "metadata": {},
   "outputs": [],
   "source": []
  },
  {
   "cell_type": "code",
   "execution_count": null,
   "metadata": {},
   "outputs": [],
   "source": []
  },
  {
   "cell_type": "code",
   "execution_count": null,
   "metadata": {},
   "outputs": [],
   "source": []
  },
  {
   "cell_type": "code",
   "execution_count": null,
   "metadata": {},
   "outputs": [],
   "source": []
  }
 ],
 "metadata": {
  "kernelspec": {
   "display_name": "Python 3",
   "language": "python",
   "name": "python3"
  },
  "language_info": {
   "codemirror_mode": {
    "name": "ipython",
    "version": 3
   },
   "file_extension": ".py",
   "mimetype": "text/x-python",
   "name": "python",
   "nbconvert_exporter": "python",
   "pygments_lexer": "ipython3",
   "version": "3.8.8"
  }
 },
 "nbformat": 4,
 "nbformat_minor": 2
}
