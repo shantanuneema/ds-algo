{
 "cells": [
  {
   "cell_type": "code",
   "execution_count": 9,
   "metadata": {},
   "outputs": [],
   "source": [
    "numbers = [99, 44, 6, 2, 1, 5, 63, 87, 283, 4, 0]\n",
    "\n",
    "def bubble_once(numbers):\n",
    "    for i in range(len(numbers)-1):\n",
    "        a, b = numbers[i], numbers[i+1]\n",
    "        if a > b:\n",
    "            numbers[i+1] = a; numbers[i] = b\n",
    "    return numbers\n",
    "        \n",
    "def bubble_sort(numbers):\n",
    "    for i in range(len(numbers)-1):\n",
    "        numbers = bubble_once(numbers)\n",
    "    return numbers"
   ]
  },
  {
   "cell_type": "code",
   "execution_count": 5,
   "metadata": {},
   "outputs": [
    {
     "data": {
      "text/plain": [
       "[0, 1, 2, 4, 5, 6, 44, 63, 87, 99, 283]"
      ]
     },
     "execution_count": 5,
     "metadata": {},
     "output_type": "execute_result"
    }
   ],
   "source": [
    "bubble_sort(numbers)"
   ]
  },
  {
   "cell_type": "code",
   "execution_count": 16,
   "metadata": {},
   "outputs": [
    {
     "name": "stdout",
     "output_type": "stream",
     "text": [
      "99 44 [44]\n",
      "99 6 [44, 44]\n",
      "99 2 [44, 44, 6]\n",
      "99 1 [44, 44, 6, 2]\n",
      "99 5 [44, 44, 6, 2, 1]\n",
      "99 63 [44, 44, 6, 2, 1, 5]\n",
      "99 87 [44, 44, 6, 2, 1, 5, 63]\n",
      "99 283 [44, 44, 6, 2, 1, 5, 63, 87]\n",
      "99 4 [44, 44, 6, 2, 1, 5, 63, 87, 99]\n"
     ]
    }
   ],
   "source": [
    "numbers = [99, 44, 6, 2, 1, 5, 63, 87, 283, 4]\n",
    "\n",
    "a_array = []\n",
    "for i in range(len(numbers)-1):\n",
    "    if i == 0:\n",
    "        a, b = numbers[0], numbers[1]\n",
    "        a_array.append(min(a, b))\n",
    "    else:\n",
    "        a_array.append(min(a, b)); b = numbers[i+1]\n",
    "    if a > b: \n",
    "        numbers[i], numbers[i+1] = numbers[i+1], numbers[i]\n",
    "    print(a, b, a_array)"
   ]
  },
  {
   "cell_type": "code",
   "execution_count": 18,
   "metadata": {},
   "outputs": [
    {
     "data": {
      "text/plain": [
       "[99, 44, 6, 2, 1, 5, 63, 87, 283, 4]"
      ]
     },
     "execution_count": 18,
     "metadata": {},
     "output_type": "execute_result"
    }
   ],
   "source": [
    "numbers = [99, 44, 6, 2, 1, 5, 63, 87, 283, 4]\n",
    "\n",
    "numbers"
   ]
  },
  {
   "cell_type": "code",
   "execution_count": 23,
   "metadata": {},
   "outputs": [],
   "source": [
    "a_array = []\n",
    "for i in range(len(numbers)-1):\n",
    "    if numbers[i]"
   ]
  },
  {
   "cell_type": "code",
   "execution_count": 164,
   "metadata": {},
   "outputs": [],
   "source": [
    "A = [3,5,9,2,4,8,7,8,9,12]\n",
    "\n",
    "out_array = [0]*len(A); i=0\n",
    "for k, item in enumerate(A):\n",
    "    if item % 2 == 0:\n",
    "        out_array[i] = item\n",
    "        i += 1\n",
    "    else:\n",
    "        out_array[len(A)-k+i-1] = item"
   ]
  },
  {
   "cell_type": "code",
   "execution_count": 165,
   "metadata": {},
   "outputs": [
    {
     "data": {
      "text/plain": [
       "[2, 4, 8, 8, 12, 9, 7, 9, 5, 3]"
      ]
     },
     "execution_count": 165,
     "metadata": {},
     "output_type": "execute_result"
    }
   ],
   "source": [
    "out_array"
   ]
  },
  {
   "cell_type": "code",
   "execution_count": 166,
   "metadata": {},
   "outputs": [],
   "source": [
    "B = [4,2,5,7]"
   ]
  },
  {
   "cell_type": "code",
   "execution_count": 210,
   "metadata": {},
   "outputs": [],
   "source": [
    "class Solution:\n",
    "    \n",
    "    def sortArrayByParity(self, A):\n",
    "        \n",
    "        out_array = [0]*len(A); i=0\n",
    "        for k, item in enumerate(A):\n",
    "            if item % 2 == 0:\n",
    "                out_array[i] = item\n",
    "                i += 1\n",
    "            else:\n",
    "                out_array[len(A)-k+i-1] = item\n",
    "                \n",
    "        return out_array\n",
    "    \n",
    "    def sortArrayByParityII(self, A):\n",
    "\n",
    "        out_array = [0]*len(A); i=0; j=1\n",
    "        for item in A:\n",
    "            if item % 2 == 0:\n",
    "                out_array[i] = item\n",
    "                i += 2\n",
    "            else:\n",
    "                out_array[j] = item\n",
    "                j += 2\n",
    "\n",
    "        return out_array"
   ]
  },
  {
   "cell_type": "code",
   "execution_count": 211,
   "metadata": {},
   "outputs": [
    {
     "data": {
      "text/plain": [
       "[2, 3, 4, 5, 8, 9, 8, 7, 12, 9]"
      ]
     },
     "execution_count": 211,
     "metadata": {},
     "output_type": "execute_result"
    }
   ],
   "source": [
    "Solution().sortArrayByParityII(A)"
   ]
  },
  {
   "cell_type": "code",
   "execution_count": 212,
   "metadata": {},
   "outputs": [
    {
     "data": {
      "text/plain": [
       "[2, 4, 8, 8, 12, 9, 7, 9, 5, 3]"
      ]
     },
     "execution_count": 212,
     "metadata": {},
     "output_type": "execute_result"
    }
   ],
   "source": [
    "Solution().sortArrayByParity(A)"
   ]
  },
  {
   "cell_type": "code",
   "execution_count": 189,
   "metadata": {},
   "outputs": [],
   "source": [
    "class Shape:\n",
    "    def __init__(self,x,y):\n",
    "        self.x = x\n",
    "        self.y = y\n",
    "    description = \"This shape has not been described yet\"\n",
    "    author = \"Nobody has claimed to make this shape yet\"\n",
    "    def area(self):\n",
    "        return self.x * self.y\n",
    "    def perimeter(self):\n",
    "        return 2 * self.x + 2 * self.y\n",
    "    def describe(self,text):\n",
    "        self.description = text\n",
    "    def authorName(self,text):\n",
    "        self.author = text\n",
    "    def scaleSize(self,scale):\n",
    "        self.x = self.x * scale\n",
    "        self.y = self.y * scale"
   ]
  },
  {
   "cell_type": "code",
   "execution_count": 194,
   "metadata": {},
   "outputs": [],
   "source": [
    "ractangle = Shape(3, 4)"
   ]
  },
  {
   "cell_type": "code",
   "execution_count": 195,
   "metadata": {},
   "outputs": [
    {
     "data": {
      "text/plain": [
       "12"
      ]
     },
     "execution_count": 195,
     "metadata": {},
     "output_type": "execute_result"
    }
   ],
   "source": [
    "ractangle.area()"
   ]
  },
  {
   "cell_type": "code",
   "execution_count": null,
   "metadata": {},
   "outputs": [],
   "source": [
    "# TO DO Replace the input array (Sorting problem)"
   ]
  },
  {
   "cell_type": "code",
   "execution_count": null,
   "metadata": {},
   "outputs": [],
   "source": []
  },
  {
   "cell_type": "code",
   "execution_count": null,
   "metadata": {},
   "outputs": [],
   "source": []
  },
  {
   "cell_type": "code",
   "execution_count": null,
   "metadata": {},
   "outputs": [],
   "source": []
  },
  {
   "cell_type": "code",
   "execution_count": null,
   "metadata": {},
   "outputs": [],
   "source": []
  }
 ],
 "metadata": {
  "kernelspec": {
   "display_name": "Python 3",
   "language": "python",
   "name": "python3"
  },
  "language_info": {
   "codemirror_mode": {
    "name": "ipython",
    "version": 3
   },
   "file_extension": ".py",
   "mimetype": "text/x-python",
   "name": "python",
   "nbconvert_exporter": "python",
   "pygments_lexer": "ipython3",
   "version": "3.7.1"
  }
 },
 "nbformat": 4,
 "nbformat_minor": 2
}
