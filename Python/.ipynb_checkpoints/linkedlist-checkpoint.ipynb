{
 "cells": [
  {
   "cell_type": "code",
   "execution_count": 3,
   "metadata": {},
   "outputs": [],
   "source": [
    "# Make linked list on my own\n",
    "\n",
    "# Class to make a node\n",
    "\n",
    "class make_node:\n",
    "    \n",
    "    def __init__(self, value):\n",
    "        \n",
    "        self.value = value\n",
    "        self.next = None"
   ]
  },
  {
   "cell_type": "code",
   "execution_count": 4,
   "metadata": {},
   "outputs": [
    {
     "data": {
      "text/plain": [
       "<__main__.make_node at 0x1cd06ce42b0>"
      ]
     },
     "execution_count": 4,
     "metadata": {},
     "output_type": "execute_result"
    }
   ],
   "source": [
    "# Create a linked list in Python\n",
    "\n",
    "class linked_list:\n",
    "    \n",
    "    def __init__(self, value, next_):\n",
    "        \n",
    "        self.head = value\n",
    "        self.tail = self.head\n",
    "        self.length = 1\n",
    "        \n",
    "    def append(value):\n",
    "        \n",
    "        self.head = make_node(value)"
   ]
  }
 ],
 "metadata": {
  "kernelspec": {
   "display_name": "Python 3",
   "language": "python",
   "name": "python3"
  },
  "language_info": {
   "codemirror_mode": {
    "name": "ipython",
    "version": 3
   },
   "file_extension": ".py",
   "mimetype": "text/x-python",
   "name": "python",
   "nbconvert_exporter": "python",
   "pygments_lexer": "ipython3",
   "version": "3.7.1"
  }
 },
 "nbformat": 4,
 "nbformat_minor": 2
}
