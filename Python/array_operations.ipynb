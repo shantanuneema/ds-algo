{
 "cells": [
  {
   "cell_type": "markdown",
   "metadata": {},
   "source": [
    "#### Reverse a string"
   ]
  },
  {
   "cell_type": "code",
   "execution_count": 2,
   "metadata": {},
   "outputs": [],
   "source": [
    "string = \"my name is shantanu\""
   ]
  },
  {
   "cell_type": "code",
   "execution_count": 3,
   "metadata": {},
   "outputs": [],
   "source": [
    "def reverse_string(string):\n",
    "    return \"\".join([string[len(string)-i-1] for i,c in enumerate(string)])"
   ]
  },
  {
   "cell_type": "code",
   "execution_count": 4,
   "metadata": {},
   "outputs": [
    {
     "data": {
      "text/plain": [
       "'unatnahs si eman ym'"
      ]
     },
     "execution_count": 4,
     "metadata": {},
     "output_type": "execute_result"
    }
   ],
   "source": [
    "reverse_string(string)"
   ]
  },
  {
   "cell_type": "markdown",
   "metadata": {},
   "source": [
    "#### Sort multiple arrays"
   ]
  },
  {
   "cell_type": "code",
   "execution_count": 10,
   "metadata": {},
   "outputs": [
    {
     "data": {
      "text/plain": [
       "[0, 1, 1, 2, 3, 4, 4, 8, 10]"
      ]
     },
     "execution_count": 10,
     "metadata": {},
     "output_type": "execute_result"
    }
   ],
   "source": [
    "# First way (re-arrange the inputs in the loop)\n",
    "\n",
    "def pick_lower(a, b):\n",
    "    if a == [] and b != []:\n",
    "        item = b[0]\n",
    "        b = b[1:]\n",
    "    elif b == [] and a!= []:\n",
    "        item = a[0]\n",
    "        a = a[1:]\n",
    "    elif a != [] and b != []:\n",
    "        if a[0] < b[0]:\n",
    "            item = a[0]\n",
    "            a = a[1:]\n",
    "        elif b[0] < a[0]:\n",
    "            item = b[0]\n",
    "            b = b[1:]\n",
    "        elif a[0] == b[0]:\n",
    "            item = a[0]\n",
    "            a = a[1:]\n",
    "    return item, a, b\n",
    "\n",
    "b = [0,1,1,8,10]; a = [2,3,4,4]\n",
    "out_array = [0]*(len(a)+len(b))\n",
    "\n",
    "for i in range(len(out_array)):\n",
    "    out_array[i], a, b = pick_lower(a, b)\n",
    "    \n",
    "out_array"
   ]
  },
  {
   "cell_type": "code",
   "execution_count": 13,
   "metadata": {},
   "outputs": [
    {
     "data": {
      "text/plain": [
       "[0, 1, 1, 2, 3, 4, 4, 8, 10]"
      ]
     },
     "execution_count": 13,
     "metadata": {},
     "output_type": "execute_result"
    }
   ],
   "source": [
    "# Second way (keeping the inputs intact)\n",
    "\n",
    "def pick_low_index(a, b, k_a, k_b):\n",
    "    \n",
    "    i, j = 0, 0\n",
    "    if k_a < len(a):\n",
    "        if a[k_a] < b[k_b]:\n",
    "            i = 1; out = a[k_a]\n",
    "        elif b[k_b] < a[k_a]:\n",
    "            j = 1; out = b[k_b]\n",
    "    else:\n",
    "        j = 1; out = b[k_b]\n",
    "    \n",
    "    return out, k_a+i, k_b+j\n",
    "\n",
    "b = [0,1,1,8,10]; a = [2,3,4,4]\n",
    "out_array = [0]*(len(a)+len(b))\n",
    "\n",
    "k_a, k_b = 0, 0\n",
    "for i in range(len(out_array)):\n",
    "    if len(a) <= len(b):\n",
    "        out_array[i], k_a, k_b = pick_low_index(a, b, k_a, k_b)\n",
    "    else:\n",
    "        out_array[i], k_a, k_b = pick_low_index(b, a, k_a, k_b)\n",
    "\n",
    "out_array"
   ]
  },
  {
   "cell_type": "code",
   "execution_count": 34,
   "metadata": {},
   "outputs": [
    {
     "data": {
      "text/plain": [
       "[0, 1, 1, 2, 3, 4, 4, 8, 10]"
      ]
     },
     "execution_count": 34,
     "metadata": {},
     "output_type": "execute_result"
    }
   ],
   "source": [
    "# Third way - Using a while loop\n",
    "\n",
    "b = [0,1,1,8,10]; a = [2,3,4,4]\n",
    "\n",
    "out_array = [0]*(len(a)+len(b))\n",
    "i = 0; j = 0\n",
    "while i+j < len(a)+len(b):\n",
    "    if i < len(a) and j < len(b):\n",
    "        if a[i] < b[j]:\n",
    "            out_array[i+j] = a[i]\n",
    "            i += 1\n",
    "        else:\n",
    "            out_array[i+j] = b[j]\n",
    "            j += 1\n",
    "    elif i < len(a):\n",
    "        out_array[i+j] = a[i]\n",
    "        i += 1\n",
    "    elif j < len(b):\n",
    "        out_array[i+j] = b[j]\n",
    "        j += 1\n",
    "            \n",
    "out_array"
   ]
  },
  {
   "cell_type": "markdown",
   "metadata": {},
   "source": [
    "#### Additional Questions\n",
    "\n",
    "1. Given an array of integers nums and an integer target, return indices of the two numbers such that they add up to target, assume that each input would have exactly one solution, and you may not use the same element twice.\n",
    "\n",
    "2. Given an integer array nums, find the contiguous subarray (containing at least one number) which has the largest sum and return its sum, if you have figured out the O(n) solution, try coding another solution using the divide and conquer approach, which is more subtle.\n",
    "\n",
    "3. Given an array nums, write a function to move all 0's to the end of it while maintaining the relative order of the non-zero elements.\n",
    "\n",
    "4. Given an array of integers, find if the array contains any duplicates, function should return true if any value appears at least twice in the array, and it should return false if every element is distinct.\n",
    "\n",
    "5. Given an array, rotate the array to the right by k steps, where k is non-negative.\n",
    "\n",
    "    Follow up (5):\n",
    "    Try to come up as many solutions as you can, there are at least 3  different ways to solve this problem.\n",
    "    Could you do it in-place with O(1) extra space?"
   ]
  },
  {
   "cell_type": "code",
   "execution_count": 2,
   "metadata": {},
   "outputs": [],
   "source": [
    "# Find earliest duplicate in a given array:\n",
    "\n",
    "a = [2,5,1,2,3,5,1,2,4]\n",
    "b = [2,1,1,2,3,5,1,2,4]\n",
    "c = [2,3,4,5]\n",
    "d = [2,1,3,4,6,7,1,5,4]"
   ]
  },
  {
   "cell_type": "code",
   "execution_count": 1,
   "metadata": {},
   "outputs": [],
   "source": [
    "def first_dup_find(arr):\n",
    "    for i in range(len(arr)):\n",
    "        for j in range(i+1, len(arr), 1):\n",
    "            if arr[i] == arr[j]:\n",
    "                return arr[i]\n",
    "    else:\n",
    "        return \"None\""
   ]
  },
  {
   "cell_type": "code",
   "execution_count": 6,
   "metadata": {},
   "outputs": [
    {
     "data": {
      "text/plain": [
       "1"
      ]
     },
     "execution_count": 6,
     "metadata": {},
     "output_type": "execute_result"
    }
   ],
   "source": [
    "first_dup_find(d)"
   ]
  },
  {
   "cell_type": "code",
   "execution_count": 17,
   "metadata": {},
   "outputs": [],
   "source": [
    "def first_duplicate(a):\n",
    "\n",
    "    L = []\n",
    "    for i in range(len(a)):\n",
    "        for j in range(i+1, len(a), 1):\n",
    "            if a[i] == a[j]:\n",
    "                L.append((a[i], j-i))\n",
    "\n",
    "    if L == []:\n",
    "        answer = \"None\"\n",
    "    else:\n",
    "        min_key = min([item[1] for item in L])\n",
    "        for i in range(len(L)):\n",
    "            if L[i][1] == min_key:\n",
    "                answer = L[i][0]\n",
    "                break\n",
    "                \n",
    "    return answer"
   ]
  },
  {
   "cell_type": "code",
   "execution_count": 18,
   "metadata": {},
   "outputs": [],
   "source": [
    "# Factorial using recursion (Head recursion)\n",
    "def calc_factorial_head(n):\n",
    "    if n==1: return 1\n",
    "    return n*calc_factorial_head(n-1)"
   ]
  },
  {
   "cell_type": "code",
   "execution_count": 33,
   "metadata": {},
   "outputs": [],
   "source": [
    "# Factorial using recursion (Tail recursion) - equivalent to a for/while loop\n",
    "def calc_factorial_tail(n, result=1):\n",
    "    if n==1:return result\n",
    "    return calc_factorial_tail(n-1, n*result)"
   ]
  },
  {
   "cell_type": "code",
   "execution_count": 48,
   "metadata": {},
   "outputs": [],
   "source": [
    "# Fibonacci numbers using recursion\n",
    "\n",
    "def fibonacci_head(n):\n",
    "    \n",
    "    if n == 1: return 1\n",
    "    if n == 0: return 0\n",
    "    \n",
    "    return fibonacci_head(n-1)+fibonacci_head(n-2)"
   ]
  },
  {
   "cell_type": "code",
   "execution_count": 49,
   "metadata": {},
   "outputs": [],
   "source": [
    "def fibonacci_tail(n, result=0):\n",
    "    \n",
    "    if n == 1: return 1\n",
    "    if n == 0: return result\n",
    "    \n",
    "    return fibonacci_tail(n-1, result)+fibonacci_tail(n-2, result)"
   ]
  },
  {
   "cell_type": "code",
   "execution_count": 51,
   "metadata": {},
   "outputs": [
    {
     "data": {
      "text/plain": [
       "[0, 1, 1, 2, 3, 5, 8, 13, 21, 34]"
      ]
     },
     "execution_count": 51,
     "metadata": {},
     "output_type": "execute_result"
    }
   ],
   "source": [
    "[fibonacci_head(i) for i in range(10)]"
   ]
  },
  {
   "cell_type": "code",
   "execution_count": 52,
   "metadata": {},
   "outputs": [
    {
     "data": {
      "text/plain": [
       "[0, 1, 1, 2, 3, 5, 8, 13, 21, 34]"
      ]
     },
     "execution_count": 52,
     "metadata": {},
     "output_type": "execute_result"
    }
   ],
   "source": [
    "[fibonacci_tail(i) for i in range(10)]"
   ]
  },
  {
   "cell_type": "code",
   "execution_count": null,
   "metadata": {},
   "outputs": [],
   "source": [
    "# Towers of Hanoi problem\n"
   ]
  },
  {
   "cell_type": "code",
   "execution_count": 58,
   "metadata": {},
   "outputs": [
    {
     "data": {
      "text/plain": [
       "5.053902485947822e+16"
      ]
     },
     "execution_count": 58,
     "metadata": {},
     "output_type": "execute_result"
    }
   ],
   "source": []
  },
  {
   "cell_type": "code",
   "execution_count": 60,
   "metadata": {},
   "outputs": [],
   "source": [
    "a_dict = {\"a\": 10}\n",
    "b_dict = a_dict"
   ]
  },
  {
   "cell_type": "code",
   "execution_count": 61,
   "metadata": {},
   "outputs": [
    {
     "name": "stdout",
     "output_type": "stream",
     "text": [
      "{'a': 10} {'a': 10}\n"
     ]
    }
   ],
   "source": [
    "print(a_dict, b_dict)"
   ]
  },
  {
   "cell_type": "code",
   "execution_count": 63,
   "metadata": {},
   "outputs": [],
   "source": [
    "a_dict.update({\"b\": 20})"
   ]
  },
  {
   "cell_type": "code",
   "execution_count": 64,
   "metadata": {},
   "outputs": [
    {
     "name": "stdout",
     "output_type": "stream",
     "text": [
      "{'a': 10, 'b': 20} {'a': 10, 'b': 20}\n"
     ]
    }
   ],
   "source": [
    "print(a_dict, b_dict)"
   ]
  },
  {
   "cell_type": "code",
   "execution_count": 65,
   "metadata": {},
   "outputs": [],
   "source": [
    "del a_dict"
   ]
  },
  {
   "cell_type": "code",
   "execution_count": 67,
   "metadata": {},
   "outputs": [
    {
     "name": "stdout",
     "output_type": "stream",
     "text": [
      "{'a': 10, 'b': 20}\n"
     ]
    }
   ],
   "source": [
    "print(b_dict)"
   ]
  },
  {
   "cell_type": "code",
   "execution_count": null,
   "metadata": {},
   "outputs": [],
   "source": [
    "# Create a linked list using python\n",
    "\n",
    "LinkedList = {\n",
    "    head = \n",
    "}"
   ]
  },
  {
   "cell_type": "code",
   "execution_count": null,
   "metadata": {},
   "outputs": [],
   "source": []
  },
  {
   "cell_type": "code",
   "execution_count": null,
   "metadata": {},
   "outputs": [],
   "source": []
  },
  {
   "cell_type": "code",
   "execution_count": null,
   "metadata": {},
   "outputs": [],
   "source": []
  }
 ],
 "metadata": {
  "kernelspec": {
   "display_name": "Python 3",
   "language": "python",
   "name": "python3"
  },
  "language_info": {
   "codemirror_mode": {
    "name": "ipython",
    "version": 3
   },
   "file_extension": ".py",
   "mimetype": "text/x-python",
   "name": "python",
   "nbconvert_exporter": "python",
   "pygments_lexer": "ipython3",
   "version": "3.7.1"
  }
 },
 "nbformat": 4,
 "nbformat_minor": 2
}
