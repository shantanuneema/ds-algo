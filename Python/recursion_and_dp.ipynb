{
 "cells": [
  {
   "cell_type": "code",
   "execution_count": 1,
   "metadata": {},
   "outputs": [
    {
     "data": {
      "text/plain": [
       "24"
      ]
     },
     "execution_count": 1,
     "metadata": {},
     "output_type": "execute_result"
    }
   ],
   "source": [
    "# Head recursion\n",
    "def calc_factorial_head(n):\n",
    "    if n == 1: return 1\n",
    "    return n*calc_factorial_head(n-1)\n",
    "\n",
    "# Tail recursion\n",
    "def calc_factorial_tail(n, result = 1):\n",
    "    if n == 1: return result\n",
    "    return calc_factorial_tail(n-1, n*result)\n",
    "\n",
    "calc_factorial_tail(4)"
   ]
  },
  {
   "cell_type": "code",
   "execution_count": 2,
   "metadata": {},
   "outputs": [],
   "source": [
    "# Fibonacci numbers using recursion\n",
    "def fibonacci_head(n):\n",
    "    if n == 1: return 1\n",
    "    if n == 0: return 0\n",
    "    return fibonacci_head(n-1)+fibonacci_head(n-2)\n",
    "\n",
    "def fibonacci_tail(n, result = 0):\n",
    "    if n == 1: return 1\n",
    "    if n == 0: return result\n",
    "    return fibonacci_tail(n-1, result)+fibonacci_tail(n-2, result)"
   ]
  },
  {
   "cell_type": "code",
   "execution_count": 3,
   "metadata": {},
   "outputs": [
    {
     "data": {
      "text/plain": [
       "[0, 1, 1, 2, 3, 5, 8, 13, 21, 34]"
      ]
     },
     "execution_count": 3,
     "metadata": {},
     "output_type": "execute_result"
    }
   ],
   "source": [
    "[fibonacci_head(i) for i in range(10)]"
   ]
  },
  {
   "cell_type": "code",
   "execution_count": 4,
   "metadata": {},
   "outputs": [
    {
     "data": {
      "text/plain": [
       "[0, 1, 1, 2, 3, 5, 8, 13, 21, 34]"
      ]
     },
     "execution_count": 4,
     "metadata": {},
     "output_type": "execute_result"
    }
   ],
   "source": [
    "[fibonacci_tail(i) for i in range(10)]"
   ]
  },
  {
   "cell_type": "code",
   "execution_count": 5,
   "metadata": {},
   "outputs": [],
   "source": [
    "def div_by_2(num):\n",
    "    return num//2 if num % 2 == 0 else num\n",
    "\n",
    "def div_by_3(num):\n",
    "    return num//3 if num % 3 == 0 else num\n",
    "\n",
    "def substract_1(num):\n",
    "    return num-1\n",
    "\n",
    "def get_next(num, c = 0):\n",
    "    if num == 1: return c\n",
    "    else: num = min(div_by_2(num), div_by_3(num), substract_1(num))\n",
    "    return get_next(num, c = c + 1)\n",
    "\n",
    "def min_steps_to_one(num, c = 0):\n",
    "    if num == 1: return c\n",
    "    else: \n",
    "        num1 = min(div_by_2(num), substract_1(num)) # 5\n",
    "        num2 = min(div_by_3(num), substract_1(num)) # 9\n",
    "        num3 = min(div_by_3(num), div_by_2(num)) # 5\n",
    "        c = min(get_next(num1), get_next(num2), get_next(num3))+1\n",
    "    return c\n",
    "\n",
    "def get_next(num, c = 0):\n",
    "    \n",
    "    if num == 1: return c\n",
    "    else: num = min(div_by_2(num), div_by_3(num), substract_1(num))\n",
    "    return get_next(num, c = c + 1)"
   ]
  },
  {
   "cell_type": "code",
   "execution_count": 6,
   "metadata": {},
   "outputs": [],
   "source": [
    "num = 10\n",
    "step = 0\n",
    "\n",
    "def prioritize(num, step = 0):\n",
    "    \n",
    "    if num == 1: return step\n",
    "    \n",
    "    if num > 1:\n",
    "        return prioritize(num-1, step+1)\n",
    "    elif num % 3 == 0:\n",
    "        return prioritize(num//3, step+1)\n",
    "    elif num % 2 == 0:\n",
    "        return prioritize(num//2, step+1)"
   ]
  },
  {
   "cell_type": "code",
   "execution_count": 7,
   "metadata": {},
   "outputs": [],
   "source": [
    "def solve_min_steps(num):\n",
    "    steps = 0\n",
    "    def get_next(num):\n",
    "    \n",
    "        if num == 1: return 0\n",
    "    \n",
    "        steps = get_next(num-1)\n",
    "        \n",
    "        if num % 2 == 0:\n",
    "            option2 = get_next(num//2)\n",
    "            if option2 < steps: steps = option2\n",
    "        \n",
    "        if num % 3 == 0:\n",
    "            option3 = get_next(num//3)\n",
    "            if option3 < steps: steps = option3\n",
    "    \n",
    "    return steps+1"
   ]
  },
  {
   "cell_type": "code",
   "execution_count": 12,
   "metadata": {},
   "outputs": [],
   "source": [
    "# Brute force solution using recursion\n",
    "def min_steps_to_one(n):\n",
    "    \n",
    "    def get_next(num):\n",
    "\n",
    "        if num == 1: return 0\n",
    "\n",
    "        if num > 1:\n",
    "            steps = get_next(num-1)\n",
    "            # print(\"substract 1:\", steps)\n",
    "        if num % 2 == 0:\n",
    "            steps = min(steps, get_next(num//2))\n",
    "            # print(\"divide by 2:\", steps)\n",
    "        if num % 3 == 0:\n",
    "            steps = min(steps, get_next(num//3))\n",
    "            # print(\"divide by 3:\", steps)\n",
    "\n",
    "        return steps+1\n",
    "        \n",
    "    return get_next(n)"
   ]
  },
  {
   "cell_type": "code",
   "execution_count": 14,
   "metadata": {},
   "outputs": [
    {
     "data": {
      "text/plain": [
       "4"
      ]
     },
     "execution_count": 14,
     "metadata": {},
     "output_type": "execute_result"
    }
   ],
   "source": [
    "min_steps_to_one(28) # takes long, recursion error for higher values"
   ]
  },
  {
   "cell_type": "code",
   "execution_count": null,
   "metadata": {},
   "outputs": [],
   "source": [
    "# Brute force solution using recursion\n",
    "def min_steps_to_one(n):\n",
    "    \n",
    "    def get_next(num):\n",
    "\n",
    "        if num == 1: return 0\n",
    "\n",
    "        if num > 1:\n",
    "            steps = get_next(num-1)\n",
    "            # print(\"substract 1:\", steps)\n",
    "        if num % 2 == 0:\n",
    "            steps = min(steps, get_next(num//2))\n",
    "            # print(\"divide by 2:\", steps)\n",
    "        if num % 3 == 0:\n",
    "            steps = min(steps, get_next(num//3))\n",
    "            # print(\"divide by 3:\", steps)\n",
    "\n",
    "        return steps+1\n",
    "        \n",
    "    return get_next(n)"
   ]
  },
  {
   "cell_type": "code",
   "execution_count": 45,
   "metadata": {},
   "outputs": [],
   "source": [
    "# Solution using memoization:\n",
    "\n",
    "def min_steps_optimized(n):\n",
    "    \n",
    "    if n == 1: return 0\n",
    "    div_2 = 99999; div_3 = 99999\n",
    "    \n",
    "    sub_1 = min_steps_optimized(n-1) + 1 # always possible\n",
    "    if n%2==0:\n",
    "        div_2 = min_steps_optimized(n//2) + 1\n",
    "    if n%3==0:\n",
    "        div_3 = min_steps_optimized(n//3) + 1\n",
    "        \n",
    "    print(sub_1, div_2, div_3)\n",
    "        \n",
    "    return min(sub_1, div_2, div_3)"
   ]
  },
  {
   "cell_type": "code",
   "execution_count": 46,
   "metadata": {},
   "outputs": [
    {
     "name": "stdout",
     "output_type": "stream",
     "text": [
      "1 1 99999\n",
      "2 99999 1\n",
      "1 1 99999\n",
      "2 2 99999\n",
      "3 99999 99999\n",
      "1 1 99999\n",
      "2 99999 1\n",
      "1 1 99999\n",
      "4 2 2\n",
      "3 99999 99999\n",
      "1 1 99999\n",
      "2 99999 1\n",
      "1 1 99999\n",
      "2 2 99999\n",
      "4 3 99999\n",
      "1 1 99999\n",
      "2 99999 1\n",
      "4 99999 2\n",
      "1 1 99999\n",
      "2 99999 1\n",
      "1 1 99999\n",
      "2 2 99999\n",
      "3 99999 99999\n",
      "3 4 99999\n"
     ]
    },
    {
     "data": {
      "text/plain": [
       "3"
      ]
     },
     "execution_count": 46,
     "metadata": {},
     "output_type": "execute_result"
    }
   ],
   "source": [
    "min_steps_optimized(10)"
   ]
  },
  {
   "cell_type": "code",
   "execution_count": 10,
   "metadata": {},
   "outputs": [],
   "source": [
    "# Tower of Hanoi example:\n",
    "\n",
    "def thanoi(n_plate, rod_from, rod_aux, rod_to):\n",
    "    \n",
    "    if n_plate == 1:\n",
    "        print(\"Plate 1 from %s to %s\"%(rod_from, rod_to))\n",
    "        return \n",
    "    \n",
    "    thanoi(n_plate - 1, rod_from, rod_to, rod_aux)\n",
    "    print(\"Plate %s from %s to %s\"%(n_plate, rod_from, rod_to))\n",
    "    \n",
    "    thanoi(n_plate - 1, rod_aux, rod_from, rod_to)"
   ]
  },
  {
   "cell_type": "code",
   "execution_count": 13,
   "metadata": {},
   "outputs": [
    {
     "name": "stdout",
     "output_type": "stream",
     "text": [
      "Plate 1 from A to B\n",
      "Plate 2 from A to C\n",
      "Plate 1 from B to C\n",
      "Plate 3 from A to B\n",
      "Plate 1 from C to A\n",
      "Plate 2 from C to B\n",
      "Plate 1 from A to B\n",
      "Plate 4 from A to C\n",
      "Plate 1 from B to C\n",
      "Plate 2 from B to A\n",
      "Plate 1 from C to A\n",
      "Plate 3 from B to C\n",
      "Plate 1 from A to B\n",
      "Plate 2 from A to C\n",
      "Plate 1 from B to C\n"
     ]
    }
   ],
   "source": [
    "thanoi(4, \"A\", \"B\", \"C\")"
   ]
  },
  {
   "cell_type": "code",
   "execution_count": 12,
   "metadata": {},
   "outputs": [],
   "source": [
    "def get_next(num):\n",
    "\n",
    "    if num == 1: return 0 # base\n",
    "\n",
    "    steps = get_next(num-1)\n",
    "    if num % 2 == 0:\n",
    "        steps = min(steps, get_next(num//2))\n",
    "    if num % 3 == 0:\n",
    "        steps = min(steps, get_next(num//3))\n",
    "\n",
    "    return steps+1"
   ]
  },
  {
   "cell_type": "code",
   "execution_count": 25,
   "metadata": {},
   "outputs": [
    {
     "ename": "NameError",
     "evalue": "name 'steps' is not defined",
     "output_type": "error",
     "traceback": [
      "\u001b[1;31m---------------------------------------------------------------------------\u001b[0m",
      "\u001b[1;31mNameError\u001b[0m                                 Traceback (most recent call last)",
      "\u001b[1;32m<ipython-input-25-43a630822c87>\u001b[0m in \u001b[0;36m<module>\u001b[1;34m\u001b[0m\n\u001b[0;32m      8\u001b[0m     \u001b[1;32melse\u001b[0m\u001b[1;33m:\u001b[0m\u001b[1;33m\u001b[0m\u001b[1;33m\u001b[0m\u001b[0m\n\u001b[0;32m      9\u001b[0m         \u001b[0mn\u001b[0m \u001b[1;33m-=\u001b[0m \u001b[1;36m1\u001b[0m\u001b[1;33m;\u001b[0m\u001b[1;33m\u001b[0m\u001b[1;33m\u001b[0m\u001b[0m\n\u001b[1;32m---> 10\u001b[1;33m     \u001b[0msteps\u001b[0m \u001b[1;33m+=\u001b[0m \u001b[1;36m1\u001b[0m\u001b[1;33m;\u001b[0m\u001b[1;33m\u001b[0m\u001b[1;33m\u001b[0m\u001b[0m\n\u001b[0m",
      "\u001b[1;31mNameError\u001b[0m: name 'steps' is not defined"
     ]
    }
   ],
   "source": [
    "n = 10\n",
    "\n",
    "while n > 1:\n",
    "    if n % 3 == 0:\n",
    "        n//3;    \n",
    "    elif n % 2 == 0:\n",
    "        n//2;\n",
    "    else:\n",
    "        n -= 1\n",
    "    steps += 1"
   ]
  }
 ],
 "metadata": {
  "kernelspec": {
   "display_name": "Python 3",
   "language": "python",
   "name": "python3"
  },
  "language_info": {
   "codemirror_mode": {
    "name": "ipython",
    "version": 3
   },
   "file_extension": ".py",
   "mimetype": "text/x-python",
   "name": "python",
   "nbconvert_exporter": "python",
   "pygments_lexer": "ipython3",
   "version": "3.7.1"
  }
 },
 "nbformat": 4,
 "nbformat_minor": 2
}
