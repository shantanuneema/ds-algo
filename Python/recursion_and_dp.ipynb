{
 "cells": [
  {
   "cell_type": "code",
   "execution_count": null,
   "metadata": {},
   "outputs": [],
   "source": [
    "# Head recursion\n",
    "def calc_factorial_head(n):\n",
    "    if n == 1: return 1\n",
    "    return n*calc_factorial_head(n-1)\n",
    "\n",
    "# Tail recursion\n",
    "def calc_factorial_tail(n, result = 1):\n",
    "    if n == 1: return result\n",
    "    return calc_factorial_tail(n-1, n*result)\n",
    "\n",
    "calc_factorial_tail(4)"
   ]
  },
  {
   "cell_type": "code",
   "execution_count": null,
   "metadata": {},
   "outputs": [],
   "source": [
    "0,1,1,2,3,5,8,13"
   ]
  },
  {
   "cell_type": "code",
   "execution_count": null,
   "metadata": {},
   "outputs": [],
   "source": [
    "# Fibonacci numbers using recursion\n",
    "def fibonacci_head(n):\n",
    "    if n == 1: return 1\n",
    "    if n == 0: return 0\n",
    "    return fibonacci_head(n-1)+fibonacci_head(n-2)\n",
    "\n",
    "def fibonacci_tail(n, result = 0):\n",
    "    if n == 1: return 1\n",
    "    if n == 0: return result\n",
    "    return fibonacci_tail(n-1, result)+fibonacci_tail(n-2, result)"
   ]
  },
  {
   "cell_type": "code",
   "execution_count": null,
   "metadata": {},
   "outputs": [],
   "source": [
    "[fibonacci_head(i) for i in range(10)]"
   ]
  },
  {
   "cell_type": "code",
   "execution_count": null,
   "metadata": {},
   "outputs": [],
   "source": [
    "[fibonacci_tail(i) for i in range(10)]"
   ]
  },
  {
   "cell_type": "code",
   "execution_count": null,
   "metadata": {},
   "outputs": [],
   "source": [
    "def div_by_2(num):\n",
    "    return num//2 if num % 2 == 0 else num\n",
    "\n",
    "def div_by_3(num):\n",
    "    return num//3 if num % 3 == 0 else num\n",
    "\n",
    "def substract_1(num):\n",
    "    return num-1\n",
    "\n",
    "def get_next(num, c = 0):\n",
    "    if num == 1: return c\n",
    "    else: num = min(div_by_2(num), div_by_3(num), substract_1(num))\n",
    "    return get_next(num, c = c + 1)\n",
    "\n",
    "def min_steps_to_one(num, c = 0):\n",
    "    if num == 1: return c\n",
    "    else: \n",
    "        num1 = min(div_by_2(num), substract_1(num)) # 5\n",
    "        num2 = min(div_by_3(num), substract_1(num)) # 9\n",
    "        num3 = min(div_by_3(num), div_by_2(num)) # 5\n",
    "        c = min(get_next(num1), get_next(num2), get_next(num3))+1\n",
    "    return c\n",
    "\n",
    "def get_next(num, c = 0):\n",
    "    \n",
    "    if num == 1: return c\n",
    "    else: num = min(div_by_2(num), div_by_3(num), substract_1(num))\n",
    "    return get_next(num, c = c + 1)"
   ]
  },
  {
   "cell_type": "code",
   "execution_count": null,
   "metadata": {},
   "outputs": [],
   "source": [
    "num = 10\n",
    "step = 0\n",
    "\n",
    "def prioritize(num, step = 0):\n",
    "    \n",
    "    if num == 1: return step\n",
    "    \n",
    "    if num > 1:\n",
    "        return prioritize(num-1, step+1)\n",
    "    elif num % 3 == 0:\n",
    "        return prioritize(num//3, step+1)\n",
    "    elif num % 2 == 0:\n",
    "        return prioritize(num//2, step+1)"
   ]
  },
  {
   "cell_type": "code",
   "execution_count": null,
   "metadata": {},
   "outputs": [],
   "source": [
    "def solve_min_steps(num):\n",
    "    steps = 0\n",
    "    def get_next(num):\n",
    "    \n",
    "        if num == 1: return 0\n",
    "    \n",
    "        steps = get_next(num-1)\n",
    "        \n",
    "        if num % 2 == 0:\n",
    "            option2 = get_next(num//2)\n",
    "            if option2 < steps: steps = option2\n",
    "        \n",
    "        if num % 3 == 0:\n",
    "            option3 = get_next(num//3)\n",
    "            if option3 < steps: steps = option3\n",
    "    \n",
    "    return steps+1"
   ]
  },
  {
   "cell_type": "code",
   "execution_count": null,
   "metadata": {},
   "outputs": [],
   "source": [
    "# Brute force solution using recursion\n",
    "def min_steps_to_one(n):\n",
    "    \n",
    "    def get_next(num):\n",
    "\n",
    "        if num == 1: return 0\n",
    "\n",
    "        if num > 1:\n",
    "            steps = get_next(num-1)\n",
    "            # print(\"substract 1:\", steps)\n",
    "        if num % 2 == 0:\n",
    "            steps = min(steps, get_next(num//2))\n",
    "            # print(\"divide by 2:\", steps)\n",
    "        if num % 3 == 0:\n",
    "            steps = min(steps, get_next(num//3))\n",
    "            # print(\"divide by 3:\", steps)\n",
    "\n",
    "        return steps+1\n",
    "        \n",
    "    return get_next(n)"
   ]
  },
  {
   "cell_type": "code",
   "execution_count": null,
   "metadata": {},
   "outputs": [],
   "source": [
    "min_steps_to_one(28) # takes long, recursion error for higher values"
   ]
  },
  {
   "cell_type": "code",
   "execution_count": null,
   "metadata": {},
   "outputs": [],
   "source": [
    "# Brute force solution using recursion\n",
    "def min_steps_to_one(n):\n",
    "    \n",
    "    def get_next(num):\n",
    "\n",
    "        if num == 1: return 0\n",
    "\n",
    "        steps = get_next(num-1)\n",
    "        # print(\"substract 1:\", steps)\n",
    "        if num % 2 == 0:\n",
    "            steps = min(steps, get_next(num//2))\n",
    "            # print(\"divide by 2:\", steps)\n",
    "        if num % 3 == 0:\n",
    "            steps = min(steps, get_next(num//3))\n",
    "            # print(\"divide by 3:\", steps)\n",
    "\n",
    "        return steps+1\n",
    "        \n",
    "    return get_next(n)"
   ]
  },
  {
   "cell_type": "code",
   "execution_count": null,
   "metadata": {},
   "outputs": [],
   "source": [
    "# Solution using memoization:\n",
    "\n",
    "def min_steps_optimized(n):\n",
    "    \n",
    "    if n == 1: return 0\n",
    "    div_2 = math.inf; div_3 = math.inf\n",
    "    \n",
    "    sub_1 = min_steps_optimized(n-1) + 1\n",
    "    if n%2==0:\n",
    "        div_2 = min_steps_optimized(n//2) + 1\n",
    "    if n%3==0:\n",
    "        div_3 = min_steps_optimized(n//3) + 1\n",
    "        \n",
    "    print(sub_1, div_2, div_3)\n",
    "        \n",
    "    return min(sub_1, div_2, div_3)"
   ]
  },
  {
   "cell_type": "code",
   "execution_count": null,
   "metadata": {},
   "outputs": [],
   "source": [
    "# Tower of Hanoi example:\n",
    "\n",
    "def thanoi(n_plate, rod_from, rod_aux, rod_to):\n",
    "    \n",
    "    if n_plate == 1:\n",
    "        print(\"Plate 1 from %s to %s\"%(rod_from, rod_to))\n",
    "        return \n",
    "    \n",
    "    thanoi(n_plate - 1, rod_from, rod_to, rod_aux)\n",
    "    print(\"Plate %s from %s to %s\"%(n_plate, rod_from, rod_to))\n",
    "    \n",
    "    thanoi(n_plate - 1, rod_aux, rod_from, rod_to)"
   ]
  },
  {
   "cell_type": "code",
   "execution_count": null,
   "metadata": {},
   "outputs": [],
   "source": [
    "thanoi(4, \"A\", \"B\", \"C\")"
   ]
  },
  {
   "cell_type": "code",
   "execution_count": null,
   "metadata": {},
   "outputs": [],
   "source": [
    "def get_next(num):\n",
    "\n",
    "    if num == 1: return 0 # base\n",
    "\n",
    "    steps = get_next(num-1)\n",
    "    if num % 2 == 0:\n",
    "        steps = min(steps, get_next(num//2))\n",
    "    if num % 3 == 0:\n",
    "        steps = min(steps, get_next(num//3))\n",
    "\n",
    "    return steps+1"
   ]
  },
  {
   "cell_type": "code",
   "execution_count": null,
   "metadata": {},
   "outputs": [],
   "source": [
    "target = 7; nums = [5, 3, 4, 7]\n",
    "\n",
    "def best_sum(target, nums):\n",
    "\n",
    "    if target == 0: return []\n",
    "    if target < 0: return None\n",
    "    \n",
    "    shortest_result = None\n",
    "    for num in nums:\n",
    "        balance = target - num\n",
    "        result = best_sum(balance, nums)\n",
    "        if result != None:\n",
    "            comb_result = result + [num]\n",
    "            print(comb_result, shortest_result)\n",
    "            if shortest_result == None or len(comb_result) < len(shortest_result):\n",
    "                shortest_result = comb_result\n",
    "\n",
    "    return shortest_result\n",
    "\n",
    "best_sum(target, nums)"
   ]
  },
  {
   "cell_type": "code",
   "execution_count": 14,
   "metadata": {},
   "outputs": [
    {
     "name": "stdout",
     "output_type": "stream",
     "text": [
      "[1] None\n",
      "[1, 1] None\n",
      "[1, 1, 5] None\n",
      "[4] None\n",
      "[3] None\n",
      "[3, 1] [4]\n",
      "[4, 3] [1, 1, 5]\n",
      "[5] None\n",
      "[5, 1] None\n",
      "[6] [5, 1]\n",
      "[6, 1] [4, 3]\n",
      "[4, 3]\n",
      "None\n"
     ]
    }
   ],
   "source": [
    "class Solution:\n",
    "    \n",
    "    def __init__(self):\n",
    "        self.result_dict = {}\n",
    "        \n",
    "    def best_sum(self, target, nums):\n",
    "\n",
    "        if target == 0: return []\n",
    "        if target < 0: return None\n",
    "        if target in self.result_dict: return self.result_dict[target]\n",
    "        \n",
    "        shortest_result = None\n",
    "        for num in nums:\n",
    "            balance = target - num\n",
    "            result = self.best_sum(balance, nums)\n",
    "            if result != None:\n",
    "                comb_result = result + [num]\n",
    "                print(comb_result, shortest_result)\n",
    "                if shortest_result == None or len(comb_result) < len(shortest_result):\n",
    "                    shortest_result = comb_result\n",
    "                    self.result_dict[target] = shortest_result\n",
    "                    \n",
    "        self.result_dict[target] = None\n",
    "        return shortest_result\n",
    "\n",
    "if __name__ == \"__main__\":\n",
    "    s = Solution()\n",
    "    print(s.best_sum(7, [5, 3, 4, 1, 6]))\n",
    "    print(s.best_sum(8, [2, 3, 5]))\n",
    "#     print(s.best_sum(300, [7, 14]))"
   ]
  },
  {
   "cell_type": "code",
   "execution_count": null,
   "metadata": {},
   "outputs": [],
   "source": []
  },
  {
   "cell_type": "code",
   "execution_count": null,
   "metadata": {},
   "outputs": [],
   "source": []
  },
  {
   "cell_type": "code",
   "execution_count": 3,
   "metadata": {},
   "outputs": [
    {
     "name": "stdout",
     "output_type": "stream",
     "text": [
      "[None]\n",
      "[None, None]\n",
      "[None, None, None]\n",
      "[None, None, None, None]\n",
      "[None, None, None, None, [7]]\n",
      "[7]\n",
      "[None, None, None, None, [7], None]\n",
      "[None, None, None, None, [7], None, None]\n",
      "[None, None, None, None, [7], None, None, None]\n",
      "[None, None, None, None, [7], None, None, None, None]\n",
      "[None, None, None, None, [7], None, None, None, None, None]\n",
      "[None, None, None, None, [7], None, None, None, None, None, None]\n",
      "[None, None, None, None, [7], None, None, None, None, None, None, None]\n",
      "[None, None, None, None, [7], None, None, None, None, None, None, None, None]\n",
      "[None, None, None, None, [7], None, None, None, None, None, None, None, None, None]\n",
      "[None, None, None, None, [7], None, None, None, None, None, None, None, None, None, None]\n",
      "[None, None, None, None, [7], None, None, None, None, None, None, None, None, None, None, [5]]\n",
      "[None, None, None, None, [7], None, None, None, None, None, None, None, None, None, None, [5], None]\n",
      "[None, None, None, None, [7], None, None, None, None, None, None, None, None, None, None, [5], None, None]\n",
      "[None, None, None, None, [7], None, None, None, None, None, None, None, None, None, None, [5], None, None, None]\n",
      "None\n"
     ]
    }
   ],
   "source": [
    "class Solution:\n",
    "    \n",
    "    def __init__(self):\n",
    "        self.result_dict = {}\n",
    "        self.all_results = []\n",
    "        \n",
    "    def comb_sum(self, target, nums):\n",
    "\n",
    "        if target == 0: return []\n",
    "        if target < 0: return None\n",
    "        \n",
    "        for num in nums:\n",
    "            balance = target - num\n",
    "            curr_result = self.comb_sum(balance, nums)\n",
    "            if curr_result != None:\n",
    "                curr_result = curr_result + [num]\n",
    " \n",
    "        return curr_result\n",
    "\n",
    "if __name__ == \"__main__\":\n",
    "    s = Solution()\n",
    "    print(s.comb_sum(7, [5, 3, 4, 7]))\n",
    "    print(s.comb_sum(8, [2, 3, 5]))\n",
    "#     print(s.comb_sum(300, [7, 14]))"
   ]
  },
  {
   "cell_type": "code",
   "execution_count": null,
   "metadata": {},
   "outputs": [],
   "source": []
  },
  {
   "cell_type": "code",
   "execution_count": null,
   "metadata": {},
   "outputs": [],
   "source": []
  },
  {
   "cell_type": "code",
   "execution_count": null,
   "metadata": {},
   "outputs": [],
   "source": []
  },
  {
   "cell_type": "code",
   "execution_count": null,
   "metadata": {},
   "outputs": [],
   "source": []
  },
  {
   "cell_type": "code",
   "execution_count": null,
   "metadata": {},
   "outputs": [],
   "source": []
  },
  {
   "cell_type": "code",
   "execution_count": null,
   "metadata": {},
   "outputs": [],
   "source": []
  },
  {
   "cell_type": "code",
   "execution_count": null,
   "metadata": {},
   "outputs": [],
   "source": []
  },
  {
   "cell_type": "code",
   "execution_count": null,
   "metadata": {},
   "outputs": [],
   "source": []
  },
  {
   "cell_type": "code",
   "execution_count": null,
   "metadata": {},
   "outputs": [],
   "source": []
  },
  {
   "cell_type": "code",
   "execution_count": null,
   "metadata": {},
   "outputs": [],
   "source": []
  }
 ],
 "metadata": {
  "kernelspec": {
   "display_name": "Python 3",
   "language": "python",
   "name": "python3"
  },
  "language_info": {
   "codemirror_mode": {
    "name": "ipython",
    "version": 3
   },
   "file_extension": ".py",
   "mimetype": "text/x-python",
   "name": "python",
   "nbconvert_exporter": "python",
   "pygments_lexer": "ipython3",
   "version": "3.8.5"
  }
 },
 "nbformat": 4,
 "nbformat_minor": 2
}
