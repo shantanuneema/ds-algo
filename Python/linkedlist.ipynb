{
 "cells": [
  {
   "cell_type": "code",
   "execution_count": 3,
   "metadata": {},
   "outputs": [],
   "source": [
    "# Make linked list on my own\n",
    "\n",
    "class make_node:\n",
    "    \n",
    "    def __init__(self, value=None):\n",
    "        self.value = value\n",
    "        self.next = None"
   ]
  },
  {
   "cell_type": "code",
   "execution_count": 66,
   "metadata": {},
   "outputs": [],
   "source": [
    "# Create a linked list in Python\n",
    "\n",
    "class linked_list:\n",
    "    \n",
    "    def __init__(self, value = None):\n",
    "        self.head = make_node()\n",
    "        self.\n",
    "        self.length = 0\n",
    "    \n",
    "    def append(self, value):\n",
    "\n",
    "        node = make_node(value)\n",
    "        current_node = self.head\n",
    "        current_node.next = node\n",
    "        current_node. = current_node.next\n",
    "        self.length += 1\n",
    "        \n",
    "        return self\n",
    "    \n",
    "    def prepend(value):\n",
    "        \n",
    "        node = make_node(value)\n",
    "        self.next = self.head\n",
    "        self.head = node\n",
    "        self.length += 1\n",
    "        \n",
    "        return self\n",
    "    \n",
    "    def display(self):\n",
    "        items = []\n",
    "        current_node = self.head\n",
    "        while current_node.next != None:\n",
    "            current_node = current_node.next\n",
    "            items.append(current_node.data)\n",
    "        print(items)"
   ]
  },
  {
   "cell_type": "code",
   "execution_count": 67,
   "metadata": {},
   "outputs": [
    {
     "name": "stdout",
     "output_type": "stream",
     "text": [
      "[]\n"
     ]
    }
   ],
   "source": [
    "a = linked_list()\n",
    "\n",
    "a.append_(10)\n",
    "# a.append(10)\n",
    "# a.append(10)\n",
    "pri = a.display()"
   ]
  },
  {
   "cell_type": "code",
   "execution_count": 61,
   "metadata": {},
   "outputs": [],
   "source": [
    "    def append(self, value):\n",
    "        new_node = make_node(value)\n",
    "        current_node = self.head\n",
    "        while current_node.next != None:\n",
    "            current_node = current_node.next\n",
    "        current_node.next = new_node\n",
    "        \n",
    "    def display(self):\n",
    "        elems=[]\n",
    "        cur_node=self.head\n",
    "        while cur_node.next!=None:\n",
    "            cur_node=cur_node.next\n",
    "            elems.append(cur_node.data)\n",
    "        print(elems)\n",
    "        \n",
    "#     def print_llist(self):\n",
    "        \n",
    "#         llist = []\n",
    "#         current_node = self.head\n",
    "#         while (current_node != None):\n",
    "#             llist.append(current_node)\n",
    "#             current_node = current_node.next\n",
    "            \n",
    "#         return llist"
   ]
  },
  {
   "cell_type": "code",
   "execution_count": 41,
   "metadata": {},
   "outputs": [
    {
     "data": {
      "text/plain": [
       "[<__main__.make_node at 0x229a2f606a0>]"
      ]
     },
     "execution_count": 41,
     "metadata": {},
     "output_type": "execute_result"
    }
   ],
   "source": [
    "pri"
   ]
  },
  {
   "cell_type": "code",
   "execution_count": 37,
   "metadata": {},
   "outputs": [],
   "source": [
    "class node:\n",
    "\tdef __init__(self,data=None):\n",
    "\t\tself.data=data\n",
    "\t\tself.next=None\n",
    "\n",
    "class linked_list:\n",
    "\tdef __init__(self):\n",
    "\t\tself.head=node()\n",
    "\n",
    "\t# Adds new node containing 'data' to the end of the linked list.\n",
    "\tdef append(self,data):\n",
    "\t\tnew_node=node(data)\n",
    "\t\tcur=self.head\n",
    "\t\twhile cur.next!=None:\n",
    "\t\t\tcur=cur.next\n",
    "\t\tcur.next=new_node\n",
    "\n",
    "\t# Returns the length (integer) of the linked list.\n",
    "\tdef length(self):\n",
    "\t\tcur=self.head\n",
    "\t\ttotal=0\n",
    "\t\twhile cur.next!=None:\n",
    "\t\t\ttotal+=1\n",
    "\t\t\tcur=cur.next\n",
    "\t\treturn total \n",
    "\n",
    "\t# Prints out the linked list in traditional Python list format. \n",
    "\tdef display(self):\n",
    "\t\telems=[]\n",
    "\t\tcur_node=self.head\n",
    "\t\twhile cur_node.next!=None:\n",
    "\t\t\tcur_node=cur_node.next\n",
    "\t\t\telems.append(cur_node.data)\n",
    "\t\tprint(elems)\n",
    "\n",
    "\t# Returns the value of the node at 'index'. \n",
    "\tdef get(self,index):\n",
    "\t\tif index>=self.length() or index<0: # added 'index<0' post-video\n",
    "\t\t\tprint(\"ERROR: 'Get' Index out of range!\")\n",
    "\t\t\treturn None\n",
    "\t\tcur_idx=0\n",
    "\t\tcur_node=self.head\n",
    "\t\twhile True:\n",
    "\t\t\tcur_node=cur_node.next\n",
    "\t\t\tif cur_idx==index: return cur_node.data\n",
    "\t\t\tcur_idx+=1\n",
    "\n",
    "\t# Deletes the node at index 'index'.\n",
    "\tdef erase(self,index):\n",
    "\t\tif index>=self.length() or index<0: # added 'index<0' post-video\n",
    "\t\t\tprint(\"ERROR: 'Erase' Index out of range!\")\n",
    "\t\t\treturn \n",
    "\t\tcur_idx=0\n",
    "\t\tcur_node=self.head\n",
    "\t\twhile True:\n",
    "\t\t\tlast_node=cur_node\n",
    "\t\t\tcur_node=cur_node.next\n",
    "\t\t\tif cur_idx==index:\n",
    "\t\t\t\tlast_node.next=cur_node.next\n",
    "\t\t\t\treturn\n",
    "\t\t\tcur_idx+=1\n",
    "\n",
    "\t# Allows for bracket operator syntax (i.e. a[0] to return first item).\n",
    "\tdef __getitem__(self,index):\n",
    "\t\treturn self.get(index)\n",
    "\n",
    "\n",
    "\t#######################################################\n",
    "\t# Functions added after video tutorial\n",
    "\n",
    "\t# Inserts a new node at index 'index' containing data 'data'.\n",
    "\t# Indices begin at 0. If the provided index is greater than or \n",
    "\t# equal to the length of the linked list the 'data' will be appended.\n",
    "\tdef insert(self,index,data):\n",
    "\t\tif index>=self.length() or index<0:\n",
    "\t\t\treturn self.append(data)\n",
    "\t\tcur_node=self.head\n",
    "\t\tprior_node=self.head\n",
    "\t\tcur_idx=0\n",
    "\t\twhile True:\n",
    "\t\t\tcur_node=cur_node.next\n",
    "\t\t\tif cur_idx==index: \n",
    "\t\t\t\tnew_node=node(data)\n",
    "\t\t\t\tprior_node.next=new_node\n",
    "\t\t\t\tnew_node.next=cur_node\n",
    "\t\t\t\treturn\n",
    "\t\t\tprior_node=cur_node\n",
    "\t\t\tcur_idx+=1\n",
    "\n",
    "\t# Inserts the node 'node' at index 'index'. Indices begin at 0.\n",
    "\t# If the 'index' is greater than or equal to the length of the linked \n",
    "\t# list the 'node' will be appended.\n",
    "\tdef insert_node(self,index,node):\n",
    "\t\tif index<0:\n",
    "\t\t\tprint(\"ERROR: 'Erase' Index cannot be negative!\")\n",
    "\t\t\treturn\n",
    "\t\tif index>=self.length(): # append the node\n",
    "\t\t\tcur_node=self.head\n",
    "\t\t\twhile cur_node.next!=None:\n",
    "\t\t\t\tcur_node=cur_node.next\n",
    "\t\t\tcur_node.next=node\n",
    "\t\t\treturn\n",
    "\t\tcur_node=self.head\n",
    "\t\tprior_node=self.head\n",
    "\t\tcur_idx=0\n",
    "\t\twhile True:\n",
    "\t\t\tcur_node=cur_node.next\n",
    "\t\t\tif cur_idx==index: \n",
    "\t\t\t\tprior_node.next=node\n",
    "\t\t\t\treturn\n",
    "\t\t\tprior_node=cur_node\n",
    "\t\t\tcur_idx+=1\n",
    "\n",
    "\t# Sets the data at index 'index' equal to 'data'.\n",
    "\t# Indices begin at 0. If the 'index' is greater than or equal \n",
    "\t# to the length of the linked list a warning will be printed \n",
    "\t# to the user.\n",
    "\tdef set(self,index,data):\n",
    "\t\tif index>=self.length() or index<0:\n",
    "\t\t\tprint(\"ERROR: 'Set' Index out of range!\")\n",
    "\t\t\treturn\n",
    "\t\tcur_node=self.head\n",
    "\t\tcur_idx=0\n",
    "\t\twhile True:\n",
    "\t\t\tcur_node=cur_node.next\n",
    "\t\t\tif cur_idx==index: \n",
    "\t\t\t\tcur_node.data=data\n",
    "\t\t\t\treturn\n",
    "\t\t\tcur_idx+=1"
   ]
  },
  {
   "cell_type": "code",
   "execution_count": 38,
   "metadata": {},
   "outputs": [
    {
     "name": "stdout",
     "output_type": "stream",
     "text": [
      "[10, 5]\n"
     ]
    }
   ],
   "source": [
    "my_list = linked_list()\n",
    "my_list.append(10)\n",
    "my_list.append(5)\n",
    "\n",
    "my_list.display()"
   ]
  },
  {
   "cell_type": "code",
   "execution_count": null,
   "metadata": {},
   "outputs": [],
   "source": []
  },
  {
   "cell_type": "code",
   "execution_count": 33,
   "metadata": {},
   "outputs": [
    {
     "data": {
      "text/plain": [
       "[<__main__.make_node at 0x229a2f606a0>]"
      ]
     },
     "execution_count": 33,
     "metadata": {},
     "output_type": "execute_result"
    }
   ],
   "source": [
    "pri"
   ]
  }
 ],
 "metadata": {
  "kernelspec": {
   "display_name": "Python 3",
   "language": "python",
   "name": "python3"
  },
  "language_info": {
   "codemirror_mode": {
    "name": "ipython",
    "version": 3
   },
   "file_extension": ".py",
   "mimetype": "text/x-python",
   "name": "python",
   "nbconvert_exporter": "python",
   "pygments_lexer": "ipython3",
   "version": "3.7.1"
  }
 },
 "nbformat": 4,
 "nbformat_minor": 2
}
