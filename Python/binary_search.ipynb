{
 "cells": [
  {
   "cell_type": "code",
   "execution_count": null,
   "metadata": {},
   "outputs": [],
   "source": [
    "from typing import List\n",
    "\n",
    "class Solution:\n",
    "    def searchRange(self, nums, target):\n",
    "        if nums == None or len(nums) == 0: return [-1, -1]\n",
    "        l = 0; r = len(nums) - 1\n",
    "        self.result = [-1, -1]\n",
    "        while l <= r:\n",
    "            m = l + (r - l) // 2\n",
    "            if nums[m] == target:\n",
    "                if m == 0 or nums[m] > nums[m - 1]:\n",
    "                    self.result[0] = m\n",
    "                    self.result[1] = self.goright(nums, target, m, r)\n",
    "                    return self.result\n",
    "                elif m == len(nums) - 1 or nums[m + 1] > nums[m]:\n",
    "                    self.result[1] = m\n",
    "                    self.result[0] = self.goleft(nums, target, l, m)\n",
    "                    return self.result\n",
    "                else:\n",
    "                    self.result[0] = self.goleft(nums, target, l, m)\n",
    "                    self.result[1] = self.goright(nums, target, m, r)\n",
    "                    return self.result\n",
    "            elif m == 0 or nums[m] < target:\n",
    "                l = m + 1\n",
    "            elif m == len(nums) - 1 or nums[m] > target:\n",
    "                r = m - 1\n",
    "        return self.result\n",
    "            \n",
    "    def goleft(self, nums, target, l, r):\n",
    "        while l <= r:\n",
    "            m  = l + (r - l) // 2\n",
    "            if nums[m] == target:\n",
    "                if m == 0 or nums[m - 1] < nums[m]:\n",
    "                    return m\n",
    "                else: r = m - 1\n",
    "            else: l = m + 1\n",
    "    \n",
    "    def goright(self, nums, target, l, r):\n",
    "        while l <= r:\n",
    "            m = l + (r - l) // 2\n",
    "            if nums[m] == target:\n",
    "                if m == len(nums) - 1 or nums[m] < nums[m + 1]:\n",
    "                    return m\n",
    "                else: l = m + 1\n",
    "            else: r = m - 1\n",
    "\n",
    "if __name__ == \"__main__\":\n",
    "    s = Solution()\n",
    "    print(s.searchRange([1,1,1,1,1,1], 5))\n",
    "    print(s.searchRange([5,7,7,8,8,8,8,8,8,10,11], 8))\n",
    "    print(s.searchRange([1], 1))"
   ]
  },
  {
   "cell_type": "code",
   "execution_count": null,
   "metadata": {},
   "outputs": [],
   "source": [
    "class Solution:\n",
    "    def findMin(self, nums):\n",
    "        r = len(nums) - 1; l = 0\n",
    "        while l <= r:\n",
    "            m = l + (r - l) // 2\n",
    "            if nums[l] < nums[r]: return nums[l]\n",
    "            if (m == 0 or nums[m] < nums[m - 1]) and (m == len(nums) - 1 or nums[m] < nums[m + 1]):\n",
    "                return nums[m]\n",
    "            if nums[m] < nums[r]:\n",
    "                r = m - 1\n",
    "            else:\n",
    "                l = m + 1\n",
    "                \n",
    "if __name__ == \"__main__\":\n",
    "    s = Solution()\n",
    "    print(s.findMin([4,5,6,7,0,1,2]))\n",
    "    print(s.findMin([3,4,5,1,2]))"
   ]
  },
  {
   "cell_type": "code",
   "execution_count": null,
   "metadata": {},
   "outputs": [],
   "source": [
    "nums = [1,1,1,1,1]; target = 8\n",
    "\n",
    "def searchRange(nums, target):\n",
    "    l = 0; r = len(nums) - 1\n",
    "    result = [-1, -1]\n",
    "    while l <= r:\n",
    "        m = l + (r - l) // 2\n",
    "        if nums[m] == target:\n",
    "            if m == 0 or nums[m] > nums[m - 1]:\n",
    "                result[0] = m\n",
    "                result[1] = goright(nums, target, m, r)\n",
    "                return result\n",
    "            elif m == len(nums) - 1 or nums[m + 1] > nums[m]:\n",
    "                result[1] = m\n",
    "                result[0] = goleft(nums, target, l, m)\n",
    "                return result\n",
    "            else:\n",
    "                result[0] = goleft(nums, target, l, m)\n",
    "                result[1] = goright(nums, target, m, r)\n",
    "                return result\n",
    "        elif m == 0 or nums[m] < target:\n",
    "            l = m \n",
    "        elif m == len(nums) - 1 or nums[m] > target:\n",
    "            r = m \n",
    "\n",
    "def goright(nums, target, l, r):\n",
    "    while l <= r:\n",
    "        m = l + (r - l) // 2\n",
    "        if nums[m] == target:\n",
    "            if m == len(nums) - 1 or nums[m] < nums[m + 1]:\n",
    "                return m\n",
    "            else: l = m\n",
    "        else: r = m\n",
    "            \n",
    "def goleft(nums, target, l, r):\n",
    "    while l <= r:\n",
    "        m  = l + (r - l) // 2\n",
    "        if nums[m] == target:\n",
    "            if m == 0 or num[m - 1] < num[m]:\n",
    "                return m\n",
    "            else: r = m\n",
    "        else: l = m"
   ]
  },
  {
   "cell_type": "code",
   "execution_count": null,
   "metadata": {},
   "outputs": [],
   "source": [
    "searchRange([1,1,1,1,1], target)"
   ]
  },
  {
   "cell_type": "code",
   "execution_count": null,
   "metadata": {},
   "outputs": [],
   "source": [
    "def search2D(matrix, target):\n",
    "    "
   ]
  },
  {
   "cell_type": "code",
   "execution_count": null,
   "metadata": {},
   "outputs": [],
   "source": [
    "matrix = [[(j + 1) * (i + 1) for j in range(4)] for i in range(3)]\n",
    "matrix"
   ]
  },
  {
   "cell_type": "code",
   "execution_count": null,
   "metadata": {},
   "outputs": [],
   "source": [
    "class Solution:\n",
    "\n",
    "    def search2D(self, matrix, target):\n",
    "\n",
    "        m = len(matrix)\n",
    "        n = len(matrix[0])\n",
    "\n",
    "        left = 0; right = m * n - 1\n",
    "\n",
    "        while left <= right:\n",
    "            mid = left + (right - left) // 2\n",
    "            row, col = divmod(mid, n)\n",
    "            if matrix[row][col] == target: \n",
    "                return True\n",
    "            elif matrix[row][col] > target:\n",
    "                right = mid - 1 \n",
    "            else:\n",
    "                left = mid + 1\n",
    "        return False\n",
    "    \n",
    "if __name__ == \"__main__\":\n",
    "    s = Solution()\n",
    "    print(s.search2D([[1,3,5,7], [10,11,16,20], [23,30,34,60]], 3))"
   ]
  },
  {
   "cell_type": "code",
   "execution_count": 39,
   "metadata": {},
   "outputs": [],
   "source": [
    "def binarySearch(nums, target):\n",
    "    l = 0; r = len(nums) - 1\n",
    "    while l <= r:\n",
    "        m = l + (r - l) // 2\n",
    "        if nums[m] == target:\n",
    "            return 1\n",
    "        elif nums[m] < target:\n",
    "            l = m + 1\n",
    "        else:\n",
    "            r = m - 1\n",
    "    return 0\n",
    "\n",
    "def numberOfWays(arr, k):\n",
    "    arr_ = sorted(arr)\n",
    "    count = 0\n",
    "    for i in range(0, len(arr_) - 1):\n",
    "        sub_array = arr_[i + 1: ]\n",
    "        count += binarySearch(sub_array, k - arr_[i])\n",
    "\n",
    "    return count"
   ]
  },
  {
   "cell_type": "code",
   "execution_count": 42,
   "metadata": {},
   "outputs": [
    {
     "name": "stdout",
     "output_type": "stream",
     "text": [
      "2\n",
      "3\n"
     ]
    }
   ],
   "source": [
    "if __name__ == \"__main__\":\n",
    "    k_1 = 6\n",
    "    arr_1 = [1, 2, 3, 4, 3]\n",
    "    expected_1 = 2\n",
    "    output_1 = numberOfWays(arr_1, k_1)\n",
    "    print(output_1)\n",
    "\n",
    "    k_2 = 6\n",
    "    arr_2 = [1, 5, 3, 3, 3]\n",
    "    expected_2 = 4\n",
    "    output_2 = numberOfWays(arr_2, k_2)\n",
    "    print(output_2)"
   ]
  },
  {
   "cell_type": "code",
   "execution_count": 51,
   "metadata": {},
   "outputs": [
    {
     "name": "stdout",
     "output_type": "stream",
     "text": [
      "Head value of heap : 400\n"
     ]
    }
   ],
   "source": [
    "# Boiler plate code for maxHeap\n",
    "from heapq import heappop, heappush, heapify\n",
    "  \n",
    "# Creating empty heap\n",
    "heap = []\n",
    "heapify(heap)\n",
    "  \n",
    "# Adding items to the heap using heappush\n",
    "# function by multiplying them with -1\n",
    "heappush(heap, -1 * 10)\n",
    "heappush(heap, -1 * 30)\n",
    "heappush(heap, -1 * 20)\n",
    "heappush(heap, -1 * 400)\n",
    "  \n",
    "# printing the value of maximum element\n",
    "print(\"Head value of heap : \" + str(-1 * heap[0]))"
   ]
  },
  {
   "cell_type": "code",
   "execution_count": 52,
   "metadata": {},
   "outputs": [],
   "source": [
    "class ListNode:\n",
    "    def __init__(self, val = 0, next = None):\n",
    "        self.val = val\n",
    "        self.next = next\n",
    "    \n",
    "1->3->4\n",
    "1->4->5\n",
    "2->6\n",
    "        \n",
    "class Solution:\n",
    "    def mergeKLists(self, lists: List[ListNode]) -> ListNode:\n",
    "        "
   ]
  },
  {
   "cell_type": "code",
   "execution_count": 54,
   "metadata": {},
   "outputs": [],
   "source": [
    "class Solution:\n",
    "    from heapq import heappush, heappop\n",
    "    from typing import List\n",
    "    def mergeKLists(self, lists: List[ListNode]) -> ListNode:\n",
    "\n",
    "        if lists == None: return\n",
    "\n",
    "        ListNode.__lt__ = lambda a, b: a.val < b.val\n",
    "        pq = []\n",
    "        for head in lists:\n",
    "            if head: heappush(pq, head)\n",
    "\n",
    "        result = ListNode(-1) # use a dummy node \n",
    "        current = result # pointer to final linked list\n",
    "        while len(pq) > 0 :\n",
    "            temp = heappop(pq)\n",
    "            current.next = temp\n",
    "            if temp.next:\n",
    "                heappush(pq, temp.next)\n",
    "            current = temp\n",
    "\n",
    "        return result.next"
   ]
  },
  {
   "cell_type": "code",
   "execution_count": 60,
   "metadata": {},
   "outputs": [],
   "source": [
    "from heapq import heappush, heappop\n",
    "from typing import List\n",
    "\n",
    "def mergeKLists(lists: List[ListNode]) -> ListNode:\n",
    "    \n",
    "    if lists == None: return\n",
    "\n",
    "    ListNode.__lt__ = lambda a, b: a.val < b.val\n",
    "    minHeap = []\n",
    "\n",
    "    for item in lists:\n",
    "        heappush(minHeap, item)\n",
    "\n",
    "    dummy = ListNode(-1)\n",
    "    result = dummy\n",
    "    i = 0\n",
    "    while minHeap:\n",
    "        temp = heappop(minHeap)\n",
    "        print(f'Result before, step {i}, {result}')\n",
    "        print(f'Result before, step {i}, {dummy}')\n",
    "        dummy.next = temp\n",
    "        dummy = dummy.next\n",
    "        if temp.next: heappush(minHeap, temp.next)\n",
    "        print(f'Result before, step {i}, {result}')\n",
    "        print(f'Result before, step {i}, {dummy}')\n",
    "        i += 1\n",
    "\n",
    "    return result.next\n"
   ]
  },
  {
   "cell_type": "code",
   "execution_count": 70,
   "metadata": {},
   "outputs": [],
   "source": [
    "def array_toLL(array):\n",
    "    dummy = ListNode(-1)\n",
    "    result = dummy\n",
    "    for arr in array:\n",
    "        dummy.next = ListNode(arr)\n",
    "        print(result.val, dummy.val)\n",
    "    return result.next"
   ]
  },
  {
   "cell_type": "code",
   "execution_count": 71,
   "metadata": {},
   "outputs": [
    {
     "name": "stdout",
     "output_type": "stream",
     "text": [
      "-1 -1\n",
      "-1 -1\n",
      "-1 -1\n"
     ]
    },
    {
     "data": {
      "text/plain": [
       "True"
      ]
     },
     "execution_count": 71,
     "metadata": {},
     "output_type": "execute_result"
    }
   ],
   "source": [
    "llist = array_toLL([1,2,3])\n",
    "llist.next == None"
   ]
  },
  {
   "cell_type": "code",
   "execution_count": 45,
   "metadata": {},
   "outputs": [
    {
     "name": "stdout",
     "output_type": "stream",
     "text": [
      "[('have', 'free'), ('free', 'hours'), ('hours', 'and'), ('and', 'love'), ('love', 'children?'), ('children?', 'drive'), ('drive', 'kids'), ('kids', 'to'), ('to', 'school,'), ('school,', 'soccer'), ('soccer', 'practice'), ('practice', 'and'), ('and', 'other'), ('other', 'activities.')]\n"
     ]
    }
   ],
   "source": [
    "class Solution:\n",
    "    def findBigrams(self, sentence):\n",
    "        gram_list = sentence.split()\n",
    "        output = [(gram_list[i].lower(), gram_list[i + 1].lower()) \\\n",
    "                 for i in range(len(gram_list) - 1)]\n",
    "        return output\n",
    "        \n",
    "if __name__ == \"__main__\":\n",
    "    s = Solution()\n",
    "    print(s.findBigrams(\"Have free hours and love children? Drive kids to school, soccer practice and other activities.\"))"
   ]
  },
  {
   "cell_type": "code",
   "execution_count": 46,
   "metadata": {},
   "outputs": [
    {
     "name": "stdout",
     "output_type": "stream",
     "text": [
      "B\n"
     ]
    }
   ],
   "source": [
    "import random\n",
    "\n",
    "def random_key(weights):\n",
    "    ans = random.choice([key for key in weights.keys() \\\n",
    "           for weight in range(weights[key])])\n",
    "    return ans\n",
    "    \n",
    "print(random_key({'A': 1, 'B': 2}))"
   ]
  },
  {
   "cell_type": "code",
   "execution_count": 48,
   "metadata": {},
   "outputs": [],
   "source": [
    "bracket1 = \")()()(())\"\n",
    "bracket2 = \"()()(())\"\n",
    "\n",
    "def validBracket(bracket):\n",
    "    count = 0\n",
    "    for char in bracket:\n",
    "        if char == \"(\": count += 1\n",
    "        elif char == \")\": count -= 1\n",
    "    \n",
    "    if count != 0: return False\n",
    "    \n",
    "    return True"
   ]
  },
  {
   "cell_type": "code",
   "execution_count": 49,
   "metadata": {},
   "outputs": [
    {
     "data": {
      "text/plain": [
       "False"
      ]
     },
     "execution_count": 49,
     "metadata": {},
     "output_type": "execute_result"
    }
   ],
   "source": [
    "validBracket(bracket1)"
   ]
  },
  {
   "cell_type": "code",
   "execution_count": 50,
   "metadata": {},
   "outputs": [
    {
     "data": {
      "text/plain": [
       "True"
      ]
     },
     "execution_count": 50,
     "metadata": {},
     "output_type": "execute_result"
    }
   ],
   "source": [
    "validBracket(bracket2)"
   ]
  }
 ],
 "metadata": {
  "kernelspec": {
   "display_name": "Python 3",
   "language": "python",
   "name": "python3"
  },
  "language_info": {
   "codemirror_mode": {
    "name": "ipython",
    "version": 3
   },
   "file_extension": ".py",
   "mimetype": "text/x-python",
   "name": "python",
   "nbconvert_exporter": "python",
   "pygments_lexer": "ipython3",
   "version": "3.9.4"
  }
 },
 "nbformat": 4,
 "nbformat_minor": 4
}
