{
 "cells": [
  {
   "cell_type": "code",
   "execution_count": null,
   "metadata": {},
   "outputs": [],
   "source": [
    "class Solution:\n",
    "    def searchRange(self, nums, target):\n",
    "        if nums == None or len(nums) == 0: return [-1, -1]\n",
    "        l = 0; r = len(nums) - 1\n",
    "        self.result = [-1, -1]\n",
    "        while l <= r:\n",
    "            m = l + (r - l) // 2\n",
    "            if nums[m] == target:\n",
    "                if m == 0 or nums[m] > nums[m - 1]:\n",
    "                    self.result[0] = m\n",
    "                    self.result[1] = self.goright(nums, target, m, r)\n",
    "                    return self.result\n",
    "                elif m == len(nums) - 1 or nums[m + 1] > nums[m]:\n",
    "                    self.result[1] = m\n",
    "                    self.result[0] = self.goleft(nums, target, l, m)\n",
    "                    return self.result\n",
    "                else:\n",
    "                    self.result[0] = self.goleft(nums, target, l, m)\n",
    "                    self.result[1] = self.goright(nums, target, m, r)\n",
    "                    return self.result\n",
    "            elif m == 0 or nums[m] < target:\n",
    "                l = m + 1\n",
    "            elif m == len(nums) - 1 or nums[m] > target:\n",
    "                r = m - 1\n",
    "        return self.result\n",
    "            \n",
    "    def goleft(self, nums, target, l, r):\n",
    "        while l <= r:\n",
    "            m  = l + (r - l) // 2\n",
    "            if nums[m] == target:\n",
    "                if m == 0 or nums[m - 1] < nums[m]:\n",
    "                    return m\n",
    "                else: r = m - 1\n",
    "            else: l = m + 1\n",
    "    \n",
    "    def goright(self, nums, target, l, r):\n",
    "        while l <= r:\n",
    "            m = l + (r - l) // 2\n",
    "            if nums[m] == target:\n",
    "                if m == len(nums) - 1 or nums[m] < nums[m + 1]:\n",
    "                    return m\n",
    "                else: l = m + 1\n",
    "            else: r = m - 1\n",
    "\n",
    "if __name__ == \"__main__\":\n",
    "    s = Solution()\n",
    "    print(s.searchRange([1,1,1,1,1,1], 5))\n",
    "    print(s.searchRange([5,7,7,8,8,8,8,8,8,10,11], 8))\n",
    "    print(s.searchRange([1], 1))"
   ]
  },
  {
   "cell_type": "code",
   "execution_count": null,
   "metadata": {},
   "outputs": [],
   "source": [
    "class Solution:\n",
    "    def findMin(self, nums):\n",
    "        r = len(nums) - 1; l = 0\n",
    "        while l <= r:\n",
    "            m = l + (r - l) // 2\n",
    "            if nums[l] < nums[r]: return nums[l]\n",
    "            if (m == 0 or nums[m] < nums[m - 1]) and (m == len(nums) - 1 or nums[m] < nums[m + 1]):\n",
    "                return nums[m]\n",
    "            if nums[m] < nums[r]:\n",
    "                r = m - 1\n",
    "            else:\n",
    "                l = m + 1\n",
    "                \n",
    "if __name__ == \"__main__\":\n",
    "    s = Solution()\n",
    "    print(s.findMin([4,5,6,7,0,1,2]))\n",
    "    print(s.findMin([3,4,5,1,2]))"
   ]
  },
  {
   "cell_type": "code",
   "execution_count": null,
   "metadata": {},
   "outputs": [],
   "source": [
    "nums = [1,1,1,1,1]; target = 8\n",
    "\n",
    "def searchRange(nums, target):\n",
    "    l = 0; r = len(nums) - 1\n",
    "    result = [-1, -1]\n",
    "    while l <= r:\n",
    "        m = l + (r - l) // 2\n",
    "        if nums[m] == target:\n",
    "            if m == 0 or nums[m] > nums[m - 1]:\n",
    "                result[0] = m\n",
    "                result[1] = goright(nums, target, m, r)\n",
    "                return result\n",
    "            elif m == len(nums) - 1 or nums[m + 1] > nums[m]:\n",
    "                result[1] = m\n",
    "                result[0] = goleft(nums, target, l, m)\n",
    "                return result\n",
    "            else:\n",
    "                result[0] = goleft(nums, target, l, m)\n",
    "                result[1] = goright(nums, target, m, r)\n",
    "                return result\n",
    "        elif m == 0 or nums[m] < target:\n",
    "            l = m \n",
    "        elif m == len(nums) - 1 or nums[m] > target:\n",
    "            r = m \n",
    "\n",
    "def goright(nums, target, l, r):\n",
    "    while l <= r:\n",
    "        m = l + (r - l) // 2\n",
    "        if nums[m] == target:\n",
    "            if m == len(nums) - 1 or nums[m] < nums[m + 1]:\n",
    "                return m\n",
    "            else: l = m\n",
    "        else: r = m\n",
    "            \n",
    "def goleft(nums, target, l, r):\n",
    "    while l <= r:\n",
    "        m  = l + (r - l) // 2\n",
    "        if nums[m] == target:\n",
    "            if m == 0 or num[m - 1] < num[m]:\n",
    "                return m\n",
    "            else: r = m\n",
    "        else: l = m"
   ]
  },
  {
   "cell_type": "code",
   "execution_count": null,
   "metadata": {},
   "outputs": [],
   "source": [
    "searchRange([1,1,1,1,1], target)"
   ]
  },
  {
   "cell_type": "code",
   "execution_count": null,
   "metadata": {},
   "outputs": [],
   "source": [
    "def search2D(matrix, target):\n",
    "    "
   ]
  },
  {
   "cell_type": "code",
   "execution_count": null,
   "metadata": {},
   "outputs": [],
   "source": [
    "matrix = [[(j + 1) * (i + 1) for j in range(4)] for i in range(3)]\n",
    "matrix"
   ]
  },
  {
   "cell_type": "code",
   "execution_count": 3,
   "metadata": {},
   "outputs": [
    {
     "name": "stdout",
     "output_type": "stream",
     "text": [
      "True\n"
     ]
    }
   ],
   "source": [
    "class Solution:\n",
    "\n",
    "    def search2D(self, matrix, target):\n",
    "\n",
    "        m = len(matrix)\n",
    "        n = len(matrix[0])\n",
    "\n",
    "        left = 0; right = m * n - 1\n",
    "\n",
    "        while left <= right:\n",
    "            mid = left + (right - left) // 2\n",
    "            row, col = divmod(mid, n)\n",
    "            if matrix[row][col] == target: \n",
    "                return True\n",
    "            elif matrix[row][col] > target:\n",
    "                right = mid - 1 \n",
    "            else:\n",
    "                left = mid + 1\n",
    "        return False\n",
    "    \n",
    "if __name__ == \"__main__\":\n",
    "    s = Solution()\n",
    "    print(s.search2D([[1,3,5,7], [10,11,16,20], [23,30,34,60]], 3))"
   ]
  },
  {
   "cell_type": "code",
   "execution_count": null,
   "metadata": {},
   "outputs": [],
   "source": []
  },
  {
   "cell_type": "code",
   "execution_count": null,
   "metadata": {},
   "outputs": [],
   "source": [
    "divmod(2, n)"
   ]
  },
  {
   "cell_type": "code",
   "execution_count": null,
   "metadata": {},
   "outputs": [],
   "source": [
    "[[1,3,5,7], [10,11,16,20], [23,30,34,60]]"
   ]
  },
  {
   "cell_type": "code",
   "execution_count": null,
   "metadata": {},
   "outputs": [],
   "source": []
  }
 ],
 "metadata": {
  "kernelspec": {
   "display_name": "Python 3",
   "language": "python",
   "name": "python3"
  },
  "language_info": {
   "codemirror_mode": {
    "name": "ipython",
    "version": 3
   },
   "file_extension": ".py",
   "mimetype": "text/x-python",
   "name": "python",
   "nbconvert_exporter": "python",
   "pygments_lexer": "ipython3",
   "version": "3.8.5"
  }
 },
 "nbformat": 4,
 "nbformat_minor": 4
}
