{
 "cells": [
  {
   "cell_type": "code",
   "execution_count": 39,
   "metadata": {},
   "outputs": [],
   "source": [
    "numbers = [99, 44, 6, 2, 1, 5, 63, 87, 283, 4, 0]\n",
    "\n",
    "def bubble_once(numbers):\n",
    "    for i in range(len(numbers)-1):\n",
    "        a, b = numbers[i], numbers[i+1]\n",
    "        if a > b:\n",
    "            numbers[i+1] = a; numbers[i] = b\n",
    "    return numbers\n",
    "        \n",
    "def bubble_sort(numbers):\n",
    "    for i in range(len(numbers)-1):\n",
    "        numbers = one_route(numbers)\n",
    "    return numbers"
   ]
  },
  {
   "cell_type": "code",
   "execution_count": 40,
   "metadata": {},
   "outputs": [
    {
     "data": {
      "text/plain": [
       "[0, 1, 2, 4, 5, 6, 44, 63, 87, 99, 283]"
      ]
     },
     "execution_count": 40,
     "metadata": {},
     "output_type": "execute_result"
    }
   ],
   "source": [
    "bubble_sort(numbers)"
   ]
  },
  {
   "cell_type": "code",
   "execution_count": null,
   "metadata": {},
   "outputs": [],
   "source": [
    "def selection_sort(numbers):\n",
    "    "
   ]
  }
 ],
 "metadata": {
  "kernelspec": {
   "display_name": "Python 3",
   "language": "python",
   "name": "python3"
  },
  "language_info": {
   "codemirror_mode": {
    "name": "ipython",
    "version": 3
   },
   "file_extension": ".py",
   "mimetype": "text/x-python",
   "name": "python",
   "nbconvert_exporter": "python",
   "pygments_lexer": "ipython3",
   "version": "3.7.1"
  }
 },
 "nbformat": 4,
 "nbformat_minor": 2
}
