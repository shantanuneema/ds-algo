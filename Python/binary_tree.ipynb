{
 "cells": [
  {
   "cell_type": "code",
   "execution_count": null,
   "metadata": {},
   "outputs": [],
   "source": [
    "'''\n",
    "A binary tree has root, branches and leaves\n",
    "    - Root is the top node\n",
    "    - Branch is any node with children nodes (maximum 2)\n",
    "    - Leaf is any node with no children\n",
    "    - Trees are recursive data structures\n",
    "'''\n",
    "\n",
    "import math\n",
    "\n",
    "class TreeNode:\n",
    "    \n",
    "    def __init__(self, value):\n",
    "        self.left = None\n",
    "        self.right = None\n",
    "        self.value = value\n",
    "        \n",
    "def get_lr_root(L):\n",
    "    \n",
    "    levels = int(math.log(len(L)+1, 2))\n",
    "    left_indx = [2*i+1 for i in range(levels)]\n",
    "    right_indx = [2*i+2 for i in range(levels)]\n",
    "    root_node = L[0]\n",
    "    \n",
    "    return levels, root_node, left_indx, right_indx"
   ]
  },
  {
   "cell_type": "code",
   "execution_count": null,
   "metadata": {},
   "outputs": [],
   "source": [
    "L = [3,5,2,1,4,6,7,8,9,10,11,12,13,14,None] "
   ]
  },
  {
   "cell_type": "code",
   "execution_count": null,
   "metadata": {},
   "outputs": [],
   "source": [
    "a = [2, 65, 34, 6, 7, 8]\n",
    "a.sort()"
   ]
  },
  {
   "cell_type": "code",
   "execution_count": null,
   "metadata": {},
   "outputs": [],
   "source": [
    "a"
   ]
  },
  {
   "cell_type": "code",
   "execution_count": null,
   "metadata": {},
   "outputs": [],
   "source": [
    "def constructTree(L):\n",
    "\n",
    "    levels = int(math.log(len(L)+1, 2))\n",
    "    root = TreeNode(L[i])\n",
    "    root.left = constructTree(L[2*i+1])\n",
    "    root.right = constructTree(L[2*i+2])\n",
    "    \n",
    "    if i == levels:\n",
    "        return self"
   ]
  },
  {
   "cell_type": "code",
   "execution_count": null,
   "metadata": {},
   "outputs": [],
   "source": [
    "input_vals = [1, 1, 1, 1, 1, None, 1]"
   ]
  },
  {
   "cell_type": "code",
   "execution_count": 1,
   "metadata": {},
   "outputs": [],
   "source": [
    "\"\"\"\n",
    "Construction of binary trees in Python\n",
    "\"\"\"\n",
    "\n",
    "class TreeNode:\n",
    "\n",
    "    def __init__(self, value):\n",
    "        self.value = value\n",
    "        self.left = None\n",
    "        self.right = None\n",
    "        \n",
    "class BinaryTree:\n",
    "\n",
    "    def insertLevelOrder(self, arr, root, i, n):\n",
    "        if i < n:\n",
    "            temp = TreeNode(arr[i]) \n",
    "            root = temp \n",
    "            # insert left child \n",
    "            root.left = self.insertLevelOrder(arr, root.left, 2 * i + 1, n)\n",
    "            # insert right child \n",
    "            root.right = self.insertLevelOrder(arr, root.right, 2 * i + 2, n)\n",
    "        return root\n",
    "\n",
    "if __name__ == \"__main__\":\n",
    "    s = BinaryTree()\n",
    "    nums = [25,20,30,10,22,28,40,5,15,21,23,27,29,35,50]\n",
    "    arr = [1,2,3,4,5]\n",
    "    new_root = s.insertLevelOrder(nums, None, 0, len(nums))\n",
    "    tree_node = s.insertLevelOrder(arr, None, 0, len(arr))\n",
    "\n",
    "class Solution:\n",
    "    \n",
    "    def __init__(self):\n",
    "        self.result = []\n",
    "        \n",
    "    def in_order(self, root, ascending = True):\n",
    "        if ascending:\n",
    "            self.inhelper_asc(root)\n",
    "        else: self.inhelper_desc(root)\n",
    "        return self.result\n",
    "    \n",
    "    def pre_order(self, root, ascending = True):\n",
    "        if ascending:\n",
    "            self.prehelper_asc(root)\n",
    "        else: self.prehelper_desc(root)\n",
    "        return self.result\n",
    "    \n",
    "    def post_order(self, root, ascending = True):\n",
    "        if ascending:\n",
    "            self.posthelper_asc(root)\n",
    "        else: self.posthelper_desc(root)\n",
    "        return self.result\n",
    "        \n",
    "    def inhelper_asc(self, root):\n",
    "        if root:\n",
    "            self.inhelper_asc(self.inhelper_asc(root.left))\n",
    "            self.result.append(root.value)\n",
    "            self.inhelper_asc(self.inhelper_asc(root.right))\n",
    "    \n",
    "    def inhelper_desc(self, root):\n",
    "        if root:\n",
    "            self.inhelper_desc(self.inhelper_desc(root.right))\n",
    "            self.result.append(root.value)\n",
    "            self.inhelper_desc(self.inhelper_desc(root.left))\n",
    "            \n",
    "    def prehelper_asc(self, root):\n",
    "        if root:\n",
    "            self.result.append(root.value)\n",
    "            self.prehelper_asc(self.prehelper_asc(root.left))\n",
    "            self.prehelper_asc(self.prehelper_asc(root.right))\n",
    "    \n",
    "    def prehelper_desc(self, root):\n",
    "        if root:\n",
    "            self.result.append(root.value)\n",
    "            self.prehelper_desc(self.prehelper_desc(root.right))\n",
    "            self.prehelper_desc(self.prehelper_desc(root.left))\n",
    "            \n",
    "    def posthelper_asc(self, root):\n",
    "        if root:\n",
    "            self.posthelper_asc(self.posthelper_asc(root.left))\n",
    "            self.posthelper_asc(self.posthelper_asc(root.right))\n",
    "            self.result.append(root.value)\n",
    "    \n",
    "    def posthelper_desc(self, root):\n",
    "        if root:\n",
    "            self.posthelper_desc(self.posthelper_desc(root.right))\n",
    "            self.posthelper_desc(self.posthelper_desc(root.left))\n",
    "            self.result.append(root.value)\n",
    "\n",
    "print(Solution().in_order(tree_node))\n",
    "print(Solution().in_order(tree_node, ascending = False))\n",
    "print(Solution().pre_order(tree_node))\n",
    "print(Solution().pre_order(tree_node, ascending = False))\n",
    "print(Solution().post_order(tree_node))\n",
    "print(Solution().post_order(tree_node, ascending = False))"
   ]
  },
  {
   "cell_type": "code",
   "execution_count": null,
   "metadata": {},
   "outputs": [],
   "source": []
  },
  {
   "cell_type": "code",
   "execution_count": 8,
   "metadata": {},
   "outputs": [
    {
     "name": "stdout",
     "output_type": "stream",
     "text": [
      "[50, 40, 35, 30, 29, 28, 27, 25, 23, 22, 21, 20, 15, 10, 5]\n"
     ]
    }
   ],
   "source": []
  },
  {
   "cell_type": "code",
   "execution_count": null,
   "metadata": {},
   "outputs": [],
   "source": []
  },
  {
   "cell_type": "code",
   "execution_count": null,
   "metadata": {},
   "outputs": [],
   "source": []
  },
  {
   "cell_type": "code",
   "execution_count": null,
   "metadata": {},
   "outputs": [],
   "source": []
  },
  {
   "cell_type": "code",
   "execution_count": null,
   "metadata": {},
   "outputs": [],
   "source": []
  },
  {
   "cell_type": "code",
   "execution_count": null,
   "metadata": {},
   "outputs": [],
   "source": []
  },
  {
   "cell_type": "code",
   "execution_count": null,
   "metadata": {},
   "outputs": [],
   "source": []
  },
  {
   "cell_type": "code",
   "execution_count": null,
   "metadata": {},
   "outputs": [],
   "source": [
    "n_level, root_node, left_indx, right_indx = get_lr_root(L)"
   ]
  },
  {
   "cell_type": "code",
   "execution_count": null,
   "metadata": {},
   "outputs": [],
   "source": [
    "tree = TreeNode(root_node)"
   ]
  },
  {
   "cell_type": "code",
   "execution_count": null,
   "metadata": {},
   "outputs": [],
   "source": [
    "constructTree(L)"
   ]
  },
  {
   "cell_type": "code",
   "execution_count": null,
   "metadata": {},
   "outputs": [],
   "source": [
    "L[i]"
   ]
  },
  {
   "cell_type": "code",
   "execution_count": null,
   "metadata": {},
   "outputs": [],
   "source": [
    "for i, j in zip(left_indx, right_indx):\n",
    "    tree.left[i] = L[i]\n",
    "    tree.right[i] = L[j]"
   ]
  },
  {
   "cell_type": "code",
   "execution_count": null,
   "metadata": {},
   "outputs": [],
   "source": [
    "\n",
    "len(L)"
   ]
  },
  {
   "cell_type": "code",
   "execution_count": null,
   "metadata": {},
   "outputs": [],
   "source": [
    "[2**i-1 for i in range(1, 10, 1)]"
   ]
  },
  {
   "cell_type": "code",
   "execution_count": null,
   "metadata": {},
   "outputs": [],
   "source": [
    "levels = int(math.log(len(L)+1, 2))\n",
    "levels"
   ]
  },
  {
   "cell_type": "code",
   "execution_count": null,
   "metadata": {},
   "outputs": [],
   "source": []
  }
 ],
 "metadata": {
  "kernelspec": {
   "display_name": "Python 3",
   "language": "python",
   "name": "python3"
  },
  "language_info": {
   "codemirror_mode": {
    "name": "ipython",
    "version": 3
   },
   "file_extension": ".py",
   "mimetype": "text/x-python",
   "name": "python",
   "nbconvert_exporter": "python",
   "pygments_lexer": "ipython3",
   "version": "3.9.4"
  }
 },
 "nbformat": 4,
 "nbformat_minor": 2
}
