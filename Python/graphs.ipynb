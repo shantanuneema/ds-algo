{
 "cells": [
  {
   "cell_type": "code",
   "execution_count": 3,
   "metadata": {},
   "outputs": [],
   "source": [
    "n = 5\n",
    "edges = [[0,1],[2,1],[3,1],[1,4],[2,4]]"
   ]
  },
  {
   "cell_type": "code",
   "execution_count": 121,
   "metadata": {},
   "outputs": [],
   "source": [
    "def return_shift(char, k):\n",
    "    return chr(ord('a') + divmod(ord(char) + k - ord('a'), 26)[1])\n",
    "\n",
    "nums = [3, 5, 9]; s = 'abc'\n",
    "outstring = ''; k = 0\n",
    "for i in range(len(nums) - 1, -1, -1):\n",
    "    k += nums[i]\n",
    "    outstring = return_shift(s[i], k) + outstring"
   ]
  },
  {
   "cell_type": "code",
   "execution_count": 123,
   "metadata": {},
   "outputs": [],
   "source": [
    "s = 'dcbefgbce'\n",
    "t = 'fdg'"
   ]
  },
  {
   "cell_type": "code",
   "execution_count": 141,
   "metadata": {},
   "outputs": [
    {
     "data": {
      "text/plain": [
       "18"
      ]
     },
     "execution_count": 141,
     "metadata": {},
     "output_type": "execute_result"
    }
   ],
   "source": [
    "targetSet = list(t)\n",
    "len(targetSet)"
   ]
  },
  {
   "cell_type": "code",
   "execution_count": 142,
   "metadata": {},
   "outputs": [],
   "source": [
    "targetSet.remove('c')"
   ]
  },
  {
   "cell_type": "code",
   "execution_count": 143,
   "metadata": {},
   "outputs": [
    {
     "data": {
      "text/plain": [
       "17"
      ]
     },
     "execution_count": 143,
     "metadata": {},
     "output_type": "execute_result"
    }
   ],
   "source": [
    "len(targetSet)"
   ]
  },
  {
   "cell_type": "code",
   "execution_count": 132,
   "metadata": {},
   "outputs": [],
   "source": [
    "s = \"bfbeadbcbcbfeaaeefcddcccbbbfaaafdbebedddf\"\n",
    "t = \"cbccfafebccdccebdd\""
   ]
  },
  {
   "cell_type": "code",
   "execution_count": 144,
   "metadata": {},
   "outputs": [
    {
     "name": "stdout",
     "output_type": "stream",
     "text": [
      "[0, 1, 2, 3, 4, 5, 6, 7, 9, 11, 12, 18, 19, 20, 21, 22, 23]\n",
      "-1\n"
     ]
    }
   ],
   "source": [
    "min_i = 0; ilist = []\n",
    "targetSet = list(t)\n",
    "for i in range(len(s)):\n",
    "    if s[i] in targetSet:\n",
    "        targetSet.remove(s[i])\n",
    "        ilist.append(i)\n",
    "print(ilist)\n",
    "if targetSet:\n",
    "    print(-1)"
   ]
  },
  {
   "cell_type": "code",
   "execution_count": 131,
   "metadata": {},
   "outputs": [
    {
     "data": {
      "text/plain": [
       "6"
      ]
     },
     "execution_count": 131,
     "metadata": {},
     "output_type": "execute_result"
    }
   ],
   "source": [
    "ilist[-1] - ilist[0] + 1"
   ]
  },
  {
   "cell_type": "code",
   "execution_count": 97,
   "metadata": {},
   "outputs": [],
   "source": [
    "def return_upper(char, k):\n",
    "    return chr(ord('A') + divmod(ord(char) + k - ord('A'), 26)[1])\n",
    "\n",
    "def return_lower(char, k):\n",
    "    return chr(ord('a') + divmod(ord(char) + k - ord('a'), 26)[1])"
   ]
  },
  {
   "cell_type": "code",
   "execution_count": 103,
   "metadata": {},
   "outputs": [],
   "source": [
    "def return_digit(char, k):\n",
    "    return chr(ord('0') + divmod(ord(char) + k - ord('0'), 10)[1])"
   ]
  },
  {
   "cell_type": "code",
   "execution_count": 105,
   "metadata": {},
   "outputs": [],
   "source": [
    "def rotate_string(string):\n",
    "    outstring = ''\n",
    "    for char in string:\n",
    "        if char.islower():\n",
    "            outstring += chr(ord('a') + divmod(ord(char) + k - ord('a'), 26)[1])\n",
    "        elif char.isupper():\n",
    "            outstring += chr(ord('A') + divmod(ord(char) + k - ord('A'), 26)[1])\n",
    "        elif char.isdigit():\n",
    "            outstring += chr(ord('0') + divmod(ord(char) + k - ord('0'), 10)[1])\n",
    "        else: outstring += char\n",
    "    return outstring"
   ]
  },
  {
   "cell_type": "code",
   "execution_count": 106,
   "metadata": {},
   "outputs": [
    {
     "data": {
      "text/plain": [
       "'Cheud-726'"
      ]
     },
     "execution_count": 106,
     "metadata": {},
     "output_type": "execute_result"
    }
   ],
   "source": [
    "rotate_string('Zebra-493')"
   ]
  },
  {
   "cell_type": "code",
   "execution_count": 102,
   "metadata": {},
   "outputs": [
    {
     "data": {
      "text/plain": [
       "'2'"
      ]
     },
     "execution_count": 102,
     "metadata": {},
     "output_type": "execute_result"
    }
   ],
   "source": [
    "chr(50)"
   ]
  },
  {
   "cell_type": "code",
   "execution_count": null,
   "metadata": {},
   "outputs": [],
   "source": []
  },
  {
   "cell_type": "code",
   "execution_count": 3,
   "metadata": {},
   "outputs": [],
   "source": [
    "aset = {1,2,3}"
   ]
  },
  {
   "cell_type": "code",
   "execution_count": 6,
   "metadata": {},
   "outputs": [],
   "source": [
    "aset.pop()\n",
    "aset.add(4)"
   ]
  },
  {
   "cell_type": "code",
   "execution_count": 7,
   "metadata": {},
   "outputs": [
    {
     "data": {
      "text/plain": [
       "{3, 4}"
      ]
     },
     "execution_count": 7,
     "metadata": {},
     "output_type": "execute_result"
    }
   ],
   "source": [
    "aset"
   ]
  },
  {
   "cell_type": "code",
   "execution_count": 9,
   "metadata": {},
   "outputs": [
    {
     "data": {
      "text/plain": [
       "12"
      ]
     },
     "execution_count": 9,
     "metadata": {},
     "output_type": "execute_result"
    }
   ],
   "source": [
    "import math\n",
    "math.prod(aset)"
   ]
  },
  {
   "cell_type": "code",
   "execution_count": 45,
   "metadata": {},
   "outputs": [],
   "source": [
    "from heapq import heappush, heappop\n",
    "def maxCandies(arr, k):\n",
    "    # Write your code here\n",
    "    maxHeap = []; total_candies = 0\n",
    "    for num in arr:\n",
    "        heappush(maxHeap, -1 * num)\n",
    "\n",
    "    # get largest\n",
    "    for __ in range(k):\n",
    "        candies = heappop(maxHeap)\n",
    "        print(maxHeap, candies)\n",
    "        heappush(maxHeap, candies // 2 + 1)\n",
    "        print(maxHeap)\n",
    "        total_candies += candies\n",
    "\n",
    "    return -1 * total_candies"
   ]
  },
  {
   "cell_type": "code",
   "execution_count": 46,
   "metadata": {},
   "outputs": [
    {
     "name": "stdout",
     "output_type": "stream",
     "text": [
      "[-4, -2, -2, -1] -7\n",
      "[-4, -3, -2, -1, -2]\n",
      "[-3, -2, -2, -1] -4\n",
      "[-3, -2, -2, -1, -1]\n",
      "[-2, -2, -1, -1] -3\n",
      "[-2, -2, -1, -1, -1]\n"
     ]
    },
    {
     "data": {
      "text/plain": [
       "14"
      ]
     },
     "execution_count": 46,
     "metadata": {},
     "output_type": "execute_result"
    }
   ],
   "source": [
    "maxCandies([2,1,7,4,2], 3)"
   ]
  },
  {
   "cell_type": "code",
   "execution_count": 44,
   "metadata": {},
   "outputs": [
    {
     "data": {
      "text/plain": [
       "-4"
      ]
     },
     "execution_count": 44,
     "metadata": {},
     "output_type": "execute_result"
    }
   ],
   "source": [
    "-7 // 2"
   ]
  },
  {
   "cell_type": "code",
   "execution_count": 29,
   "metadata": {},
   "outputs": [],
   "source": [
    "def findMaxProduct(arr):\n",
    "  # Write your code here\n",
    "    aset = set(arr[0:3])\n",
    "    product = 1\n",
    "    for item in aset:\n",
    "        product *= item\n",
    "    result = [-1, -1, product]\n",
    "    for num in arr[3: ]:\n",
    "        if num > min(aset):\n",
    "            product = 1\n",
    "            aset.pop()\n",
    "            aset.add(num)\n",
    "            for item in aset:\n",
    "                product *= item\n",
    "        result.append(product)\n",
    "    return result"
   ]
  },
  {
   "cell_type": "code",
   "execution_count": 32,
   "metadata": {},
   "outputs": [
    {
     "data": {
      "text/plain": [
       "[-1, -1, 2]"
      ]
     },
     "execution_count": 32,
     "metadata": {},
     "output_type": "execute_result"
    }
   ],
   "source": [
    "findMaxProduct([1,2])"
   ]
  },
  {
   "cell_type": "code",
   "execution_count": null,
   "metadata": {},
   "outputs": [],
   "source": []
  },
  {
   "cell_type": "code",
   "execution_count": 4,
   "metadata": {},
   "outputs": [
    {
     "data": {
      "text/plain": [
       "[0, 2, 3]"
      ]
     },
     "execution_count": 4,
     "metadata": {},
     "output_type": "execute_result"
    }
   ],
   "source": [
    "node_list = []; nodes_to = []; nodes_from = []\n",
    "for i, j in edges:\n",
    "    node_list.append(i) if not i in node_list else None\n",
    "    node_list.append(j) if not j in node_list else None\n",
    "    nodes_to.append(j) if not j in nodes_to else None\n",
    "\n",
    "[node for node in node_list if not node in nodes_to]"
   ]
  },
  {
   "cell_type": "code",
   "execution_count": 9,
   "metadata": {},
   "outputs": [
    {
     "name": "stdout",
     "output_type": "stream",
     "text": [
      "0 1\n",
      "2 1\n",
      "3 1\n",
      "1 4\n",
      "2 4\n"
     ]
    }
   ],
   "source": [
    "node_directions = [0]*n\n",
    "for i, j in edges:\n",
    "    print(i, j)\n",
    "    node_directions[j] = 5"
   ]
  },
  {
   "cell_type": "code",
   "execution_count": 10,
   "metadata": {},
   "outputs": [
    {
     "data": {
      "text/plain": [
       "[0, 5, 0, 0, 5]"
      ]
     },
     "execution_count": 10,
     "metadata": {},
     "output_type": "execute_result"
    }
   ],
   "source": [
    "node_directions"
   ]
  },
  {
   "cell_type": "code",
   "execution_count": 8,
   "metadata": {},
   "outputs": [
    {
     "data": {
      "text/plain": [
       "[0, 1, 2, 3, 4]"
      ]
     },
     "execution_count": 8,
     "metadata": {},
     "output_type": "execute_result"
    }
   ],
   "source": [
    "[i for i in range(5)]"
   ]
  },
  {
   "cell_type": "code",
   "execution_count": 63,
   "metadata": {},
   "outputs": [
    {
     "data": {
      "text/plain": [
       "[0, 2, 3]"
      ]
     },
     "execution_count": 63,
     "metadata": {},
     "output_type": "execute_result"
    }
   ],
   "source": [
    "[i for i, indicator in enumerate(node_directions) if indicator == 0]"
   ]
  }
 ],
 "metadata": {
  "kernelspec": {
   "display_name": "Python 3",
   "language": "python",
   "name": "python3"
  },
  "language_info": {
   "codemirror_mode": {
    "name": "ipython",
    "version": 3
   },
   "file_extension": ".py",
   "mimetype": "text/x-python",
   "name": "python",
   "nbconvert_exporter": "python",
   "pygments_lexer": "ipython3",
   "version": "3.9.4"
  }
 },
 "nbformat": 4,
 "nbformat_minor": 2
}
